{
 "cells": [
  {
   "cell_type": "markdown",
   "id": "8c81d7ec",
   "metadata": {},
   "source": [
    "# #Perform following stopwords operation on email datasets using spacy,gensim,NLTK libraries\n",
    "#a.Diaply exsisting stopwords in the default list\n",
    "\n",
    " #b.Removing stop words from the default list\n",
    " \n",
    "#c.adding stop word to the default list\n",
    "\n",
    " #d.Apply stop word elimination to the email dataset"
   ]
  },
  {
   "cell_type": "code",
   "execution_count": 1,
   "id": "b3b4e0ed",
   "metadata": {},
   "outputs": [
    {
     "name": "stdout",
     "output_type": "stream",
     "text": [
      "                                                text spam\n",
      "0  Subject: naturally it's your irresistible your...    1\n",
      "1  Subject: the stock trading gunslinger  fanny i...    1\n",
      "2  Subject: unbelievable new homes made easy  im ...    1\n",
      "3  Subject: 4 color printing special  request add...    1\n",
      "4  Subject: do not have money , get software cds ...    1\n",
      "5  Subject: great nnews  hello , welcome to medzo...    1\n",
      "6  Subject: here ' s a hot play in motion  homela...    1\n",
      "7  Subject: save your money buy getting this thin...    1\n",
      "8  Subject: undeliverable : home based business f...    1\n",
      "9  Subject: save your money buy getting this thin...    1\n",
      "<class 'pandas.core.frame.DataFrame'>\n",
      "RangeIndex: 5730 entries, 0 to 5729\n",
      "Data columns (total 2 columns):\n",
      " #   Column  Non-Null Count  Dtype \n",
      "---  ------  --------------  ----- \n",
      " 0   text    5730 non-null   object\n",
      " 1   spam    5728 non-null   object\n",
      "dtypes: object(2)\n",
      "memory usage: 89.7+ KB\n",
      "None\n"
     ]
    }
   ],
   "source": [
    "import pandas as pd\n",
    "\n",
    "data=pd.read_csv('2emails.csv',usecols=['text','spam'])\n",
    "print(data.head(10))\n",
    "print(data.info())"
   ]
  },
  {
   "cell_type": "markdown",
   "id": "185ed9d9",
   "metadata": {},
   "source": [
    "\n",
    "# Stopword operations using spacy"
   ]
  },
  {
   "cell_type": "code",
   "execution_count": 2,
   "id": "554e9daf",
   "metadata": {},
   "outputs": [],
   "source": [
    "import spacy\n",
    "nlp=spacy.load('en_core_web_sm')"
   ]
  },
  {
   "cell_type": "code",
   "execution_count": 4,
   "id": "413fdfc7",
   "metadata": {},
   "outputs": [
    {
     "name": "stdout",
     "output_type": "stream",
     "text": [
      "{'formerly', 'though', 'his', 'other', 'as', 'whoever', 'anyway', 'third', 'were', 'used', 'also', 'beyond', 'itself', 'elsewhere', 'made', 'myself', 'hers', 'across', 'me', 'you', 'various', 'do', 'i', 'both', 'would', 'thereby', '’ll', 'hence', 'once', 'be', 'nobody', 'it', 'why', 'another', 'off', 'hereafter', 'upon', 'ten', 'forty', 'whereafter', 'whence', 'within', 'thence', 'behind', 'one', 'well', 'say', 'becomes', 'seems', 'where', 'indeed', 'something', 'am', 'ever', 'hereupon', 'if', 'otherwise', 'full', 'per', 'four', 'is', '‘ve', 'almost', 'take', 'no', 'always', 'which', 'through', 'whose', 'has', 'them', 'please', 'was', 'hundred', 'keep', 'seem', 'this', 'make', 'call', 'whither', 'everything', 'whom', 'very', 'might', 'even', 'whereas', 'sometime', 'will', 'to', 'then', 'fifty', \"'m\", 'except', 'since', 'towards', 'around', 'moreover', 'wherever', 'whereby', 'two', 'themselves', 'ours', 'must', 're', 'becoming', 'side', 'whole', 'become', 'while', 'besides', 'that', '‘ll', 'nor', 'further', 'along', 'thus', 'together', 'seemed', 'next', 'more', 'under', 'else', 'without', '‘d', 'himself', 'whether', 'hereby', 'they', 'neither', 'somehow', 'and', 'being', 'n’t', 'few', 'go', 'therein', 'had', 'ourselves', 'regarding', \"'d\", 'here', 'herein', 'on', 'we', 'although', 'onto', 'each', 'move', \"'ve\", 'therefore', 'eight', 'her', 'top', 'part', 'he', 'others', 'yet', 'she', 'just', 'down', 'from', 'latterly', 'nevertheless', 'three', 'the', 'ca', 'how', 'whenever', 'seeming', 'by', 'over', 'only', 'yourselves', 'did', 'can', 'put', 'eleven', 'between', 'mine', 'does', \"'ll\", 'beforehand', 'whatever', 'again', 'nine', 'thru', 'back', 'n‘t', 'using', 'empty', 'about', 'anything', 'with', 'because', 'when', 'same', 'latter', 'those', '’d', 'cannot', 'anyhow', 'name', 'herself', 'show', 'yourself', 'enough', 'see', 'doing', 'amongst', 'but', 'several', 'throughout', 'own', 'who', 'became', 'noone', 'wherein', 'mostly', 'via', \"'s\", 'everyone', 'perhaps', 'serious', 'never', 'should', 'often', 'could', 'nowhere', 'anywhere', '‘s', 'get', 'there', 'unless', 'whereupon', 'front', 'at', 'thereafter', 'all', 'bottom', 'an', 'really', 'sixty', 'twelve', 'toward', 'still', 'six', 'too', '’re', 'after', 'much', '’m', 'somewhere', 'last', 'such', 'now', 'give', 'namely', 'already', 'these', 'every', 'of', 'among', 'or', 'above', 'into', 'meanwhile', 'their', 'than', 'due', 'out', 'however', 'have', 'alone', 'during', 'up', 'in', 'everywhere', 'so', 'afterwards', 'rather', 'done', 'until', 'many', 'sometimes', 'someone', '‘re', 'amount', 'most', 'either', 'nothing', 'anyone', 'may', 'beside', 'not', 'fifteen', 'our', 'any', 'first', 'five', 'less', '’ve', 'yours', 'him', 'least', '’s', 'against', 'been', 'us', \"n't\", 'are', 'some', 'before', 'twenty', 'what', 'my', 'your', 'its', \"'re\", 'former', 'none', 'below', '‘m', 'thereupon', 'a', 'for', 'quite'}\n"
     ]
    }
   ],
   "source": [
    "#set of all default stopwords for english lang model in Spacy\n",
    "all_stopwords=nlp.Defaults.stop_words\n",
    "print(all_stopwords)"
   ]
  },
  {
   "cell_type": "code",
   "execution_count": 5,
   "id": "fe5da9af",
   "metadata": {},
   "outputs": [
    {
     "name": "stdout",
     "output_type": "stream",
     "text": [
      "{'formerly', 'though', 'his', 'other', 'as', 'whoever', 'anyway', 'third', 'were', 'used', 'also', 'beyond', 'itself', 'elsewhere', 'made', 'myself', 'hers', 'across', 'me', 'you', 'various', 'do', 'i', 'both', 'would', 'thereby', '’ll', 'hence', 'once', 'be', 'nobody', 'it', 'why', 'another', 'off', 'hereafter', 'upon', 'ten', 'forty', 'whereafter', 'whence', 'within', 'thence', 'behind', 'one', 'well', 'say', 'becomes', 'seems', 'where', 'indeed', 'something', 'am', 'ever', 'hereupon', 'if', 'otherwise', 'full', 'per', 'four', 'is', '‘ve', 'almost', 'take', 'no', 'always', 'which', 'through', 'whose', 'has', 'them', 'please', 'was', 'hundred', 'keep', 'seem', 'this', 'make', 'call', 'whither', 'everything', 'whom', 'very', 'might', 'even', 'whereas', 'sometime', 'to', 'then', 'fifty', \"'m\", 'except', 'since', 'towards', 'around', 'moreover', 'wherever', 'whereby', 'two', 'themselves', 'ours', 'must', 're', 'becoming', 'side', 'whole', 'become', 'while', 'besides', 'that', '‘ll', 'nor', 'further', 'along', 'thus', 'together', 'seemed', 'next', 'more', 'under', 'else', 'without', '‘d', 'himself', 'whether', 'hereby', 'they', 'neither', 'somehow', 'and', 'being', 'n’t', 'few', 'go', 'therein', 'had', 'ourselves', 'regarding', \"'d\", 'here', 'herein', 'on', 'we', 'although', 'onto', 'each', 'move', \"'ve\", 'therefore', 'eight', 'her', 'top', 'part', 'he', 'others', 'yet', 'she', 'just', 'down', 'from', 'latterly', 'nevertheless', 'three', 'the', 'ca', 'how', 'whenever', 'seeming', 'by', 'over', 'only', 'yourselves', 'did', 'can', 'put', 'eleven', 'between', 'mine', 'does', \"'ll\", 'beforehand', 'whatever', 'again', 'nine', 'thru', 'back', 'n‘t', 'using', 'empty', 'about', 'anything', 'with', 'because', 'when', 'same', 'latter', 'those', '’d', 'cannot', 'anyhow', 'name', 'herself', 'show', 'yourself', 'enough', 'see', 'doing', 'amongst', 'but', 'several', 'throughout', 'own', 'who', 'became', 'noone', 'wherein', 'mostly', 'via', \"'s\", 'everyone', 'perhaps', 'serious', 'never', 'should', 'often', 'could', 'nowhere', 'anywhere', '‘s', 'get', 'there', 'unless', 'whereupon', 'front', 'at', 'thereafter', 'all', 'bottom', 'an', 'really', 'sixty', 'twelve', 'toward', 'still', 'six', 'too', '’re', 'after', 'much', '’m', 'somewhere', 'last', 'such', 'now', 'give', 'namely', 'already', 'these', 'every', 'of', 'among', 'or', 'above', 'into', 'meanwhile', 'their', 'than', 'due', 'out', 'however', 'have', 'alone', 'during', 'up', 'in', 'everywhere', 'so', 'afterwards', 'rather', 'done', 'until', 'many', 'sometimes', 'someone', '‘re', 'amount', 'most', 'either', 'nothing', 'anyone', 'may', 'beside', 'not', 'fifteen', 'our', 'any', 'first', 'five', 'less', '’ve', 'yours', 'him', 'least', '’s', 'against', 'been', 'us', \"n't\", 'are', 'some', 'before', 'twenty', 'what', 'my', 'your', 'its', \"'re\", 'former', 'none', 'below', '‘m', 'thereupon', 'a', 'for', 'quite'}\n"
     ]
    }
   ],
   "source": [
    "all_stopwords.remove('will')\n",
    "\n",
    "print(all_stopwords)"
   ]
  },
  {
   "cell_type": "code",
   "execution_count": 6,
   "id": "cea9811a",
   "metadata": {},
   "outputs": [
    {
     "name": "stdout",
     "output_type": "stream",
     "text": [
      "{'formerly', 'though', 'naturally', 'his', 'other', 'as', 'whoever', 'anyway', 'third', 'were', 'used', 'also', 'beyond', 'itself', 'elsewhere', 'made', 'myself', 'hers', 'across', 'me', 'you', 'various', 'do', 'i', 'both', 'would', 'thereby', '’ll', 'hence', 'once', 'be', 'nobody', 'it', 'why', 'another', 'off', 'hereafter', 'upon', 'ten', 'forty', 'whereafter', 'whence', 'within', 'thence', 'behind', 'one', 'well', 'say', 'becomes', 'seems', 'where', 'indeed', 'something', 'am', 'ever', 'hereupon', 'if', 'otherwise', 'full', 'per', 'four', 'is', '‘ve', 'almost', 'take', 'no', 'always', 'which', 'through', 'whose', 'has', 'them', 'please', 'was', 'hundred', 'keep', 'seem', 'this', 'make', 'call', 'whither', 'everything', 'whom', 'very', 'might', 'even', 'whereas', 'sometime', 'to', 'then', 'fifty', \"'m\", 'except', 'since', 'towards', 'around', 'moreover', 'wherever', 'whereby', 'two', 'themselves', 'ours', 'must', 're', 'becoming', 'side', 'whole', 'become', 'while', 'besides', 'that', '‘ll', 'nor', 'further', 'along', 'thus', 'together', 'seemed', 'next', 'more', 'under', 'else', 'without', '‘d', 'himself', 'whether', 'hereby', 'they', 'neither', 'somehow', 'and', 'being', 'n’t', 'few', 'go', 'therein', 'had', 'ourselves', 'regarding', \"'d\", 'here', 'herein', 'on', 'we', 'although', 'onto', 'each', 'move', \"'ve\", 'therefore', 'eight', 'her', 'top', 'part', 'he', 'others', 'yet', 'she', 'company', 'just', 'down', 'from', 'latterly', 'nevertheless', 'three', 'the', 'ca', 'how', 'whenever', 'seeming', 'by', 'over', 'only', 'yourselves', 'did', 'can', 'put', 'eleven', 'between', 'mine', 'does', \"'ll\", 'beforehand', 'whatever', 'again', 'nine', 'thru', 'back', 'n‘t', 'using', 'empty', 'about', 'anything', 'with', 'because', 'when', 'same', 'latter', 'those', '’d', 'cannot', 'anyhow', 'name', 'herself', 'show', 'yourself', 'enough', 'see', 'doing', 'amongst', 'but', 'several', 'throughout', 'own', 'who', 'became', 'noone', 'wherein', 'mostly', 'via', \"'s\", 'everyone', 'perhaps', 'serious', 'never', 'should', 'often', 'could', 'nowhere', 'anywhere', '‘s', 'get', 'there', 'unless', 'whereupon', 'front', 'at', 'thereafter', 'all', 'bottom', 'an', 'really', 'sixty', 'twelve', 'toward', 'still', 'six', 'too', '’re', 'after', 'much', '’m', 'somewhere', 'last', 'such', 'now', 'give', 'namely', 'already', 'these', 'every', 'of', 'among', 'or', 'above', 'into', 'meanwhile', 'their', 'than', 'due', 'out', 'however', 'have', 'alone', 'during', 'up', 'in', 'everywhere', 'so', 'afterwards', 'rather', 'done', 'until', 'many', 'sometimes', 'someone', '‘re', 'amount', 'most', 'either', 'nothing', 'anyone', 'may', 'beside', 'not', 'fifteen', 'our', 'any', 'first', 'five', 'less', '’ve', 'yours', 'him', 'least', '’s', 'against', 'been', 'us', \"n't\", 'are', 'some', 'before', 'twenty', 'what', 'my', 'your', 'its', \"'re\", 'former', 'none', 'below', '‘m', 'thereupon', 'a', 'for', 'quite'}\n"
     ]
    }
   ],
   "source": [
    "#add stopwords\n",
    "nlp.Defaults.stop_words.add('naturally')\n",
    "nlp.Defaults.stop_words.add('company')\n",
    "print(all_stopwords)"
   ]
  },
  {
   "cell_type": "markdown",
   "id": "22868ccf",
   "metadata": {},
   "source": [
    "# Apply to the dataset"
   ]
  },
  {
   "cell_type": "code",
   "execution_count": 8,
   "id": "f92d6bb5",
   "metadata": {},
   "outputs": [
    {
     "data": {
      "text/plain": [
       "\"Subject: naturally it's your irresistible your corporate identity  lt is really hard to recollect a company : the  market is full of suqgestions and the information isoverwhelminq ; but a good  catchy logo , stylish statlonery and outstanding website  will make the task much easier .  we don't promise that havinq ordered a iogo your  company will automaticaily become a world ieader : it isguite ciear that  without good products , effective business organization and practicable aim it  will be hotat nowadays market ; but we do promise that your marketing efforts  will become much more effective . here is the list of clear  benefits : creativeness : hand - made , original logos , specially done  to reflect your distinctive company image . convenience : logo and stationery  are provided in all formats ; easy - to - use content management system letsyou  change your website content and even its structure . promptness : you'll see logo drafts within three business days . affordability : your  marketing break - through shouldn't make gaps in your budget . 100 % satisfaction  guaranteed : we provide unlimited amount of changes with no extra fees for you to  be surethat you will love the result of this collaboration . have a look at our  portfolio _ _ _ _ _ _ _ _ _ _ _ _ _ _ _ _ _ _ _ _ _ _ _ _ _ _ _ _ _ _ _ _ _ _ _ _ _ _ _ _ _ _ _ _ _ _ _ _ _ _ _ _ not interested . . . _ _ _ _ _ _ _ _ _ _ _ _ _ _ _ _ _ _ _ _ _ _ _ _ _ _ _ _ _ _ _ _ _ _ _ _ _ _ _ _ _ _ _ _ _ _ _ _ _ _ _ _\""
      ]
     },
     "execution_count": 8,
     "metadata": {},
     "output_type": "execute_result"
    }
   ],
   "source": [
    "Text=data['text'][0]\n",
    "Text"
   ]
  },
  {
   "cell_type": "code",
   "execution_count": 10,
   "id": "39b30d20",
   "metadata": {},
   "outputs": [
    {
     "name": "stdout",
     "output_type": "stream",
     "text": [
      "['Subject', ':', 'irresistible', 'corporate', 'identity', ' ', 'lt', 'hard', 'recollect', ':', ' ', 'market', 'suqgestions', 'information', 'isoverwhelminq', ';', 'good', ' ', 'catchy', 'logo', ',', 'stylish', 'statlonery', 'outstanding', 'website', ' ', 'will', 'task', 'easier', '.', ' ', 'promise', 'havinq', 'ordered', 'iogo', ' ', 'will', 'automaticaily', 'world', 'ieader', ':', 'isguite', 'ciear', ' ', 'good', 'products', ',', 'effective', 'business', 'organization', 'practicable', 'aim', ' ', 'will', 'hotat', 'nowadays', 'market', ';', 'promise', 'marketing', 'efforts', ' ', 'will', 'effective', '.', 'list', 'clear', ' ', 'benefits', ':', 'creativeness', ':', 'hand', '-', ',', 'original', 'logos', ',', 'specially', ' ', 'reflect', 'distinctive', 'image', '.', 'convenience', ':', 'logo', 'stationery', ' ', 'provided', 'formats', ';', 'easy', '-', '-', 'use', 'content', 'management', 'system', 'letsyou', ' ', 'change', 'website', 'content', 'structure', '.', 'promptness', ':', 'logo', 'drafts', 'business', 'days', '.', 'affordability', ':', ' ', 'marketing', 'break', '-', 'gaps', 'budget', '.', '100', '%', 'satisfaction', ' ', 'guaranteed', ':', 'provide', 'unlimited', 'changes', 'extra', 'fees', ' ', 'surethat', 'will', 'love', 'result', 'collaboration', '.', 'look', ' ', 'portfolio', '_', '_', '_', '_', '_', '_', '_', '_', '_', '_', '_', '_', '_', '_', '_', '_', '_', '_', '_', '_', '_', '_', '_', '_', '_', '_', '_', '_', '_', '_', '_', '_', '_', '_', '_', '_', '_', '_', '_', '_', '_', '_', '_', '_', '_', '_', '_', '_', '_', '_', '_', '_', 'interested', '.', '.', '.', '_', '_', '_', '_', '_', '_', '_', '_', '_', '_', '_', '_', '_', '_', '_', '_', '_', '_', '_', '_', '_', '_', '_', '_', '_', '_', '_', '_', '_', '_', '_', '_', '_', '_', '_', '_', '_', '_', '_', '_', '_', '_', '_', '_', '_', '_', '_', '_', '_', '_', '_', '_']\n"
     ]
    }
   ],
   "source": [
    "doc=nlp(Text)\n",
    "Text=[i.text for i in doc if i.text not in all_stopwords]\n",
    "print(Text)"
   ]
  },
  {
   "cell_type": "markdown",
   "id": "7cf1925d",
   "metadata": {},
   "source": [
    "# Stopword operation using gensim"
   ]
  },
  {
   "cell_type": "code",
   "execution_count": 11,
   "id": "44269112",
   "metadata": {},
   "outputs": [
    {
     "name": "stdout",
     "output_type": "stream",
     "text": [
      "Defaulting to user installation because normal site-packages is not writeable\n",
      "Collecting gensim\n",
      "  Downloading gensim-4.3.2-cp310-cp310-manylinux_2_17_x86_64.manylinux2014_x86_64.whl.metadata (8.4 kB)\n",
      "Requirement already satisfied: numpy>=1.18.5 in /home/student/.local/lib/python3.10/site-packages (from gensim) (1.26.3)\n",
      "Requirement already satisfied: scipy>=1.7.0 in /usr/lib/python3/dist-packages (from gensim) (1.8.0)\n",
      "Requirement already satisfied: smart-open>=1.8.1 in /home/student/.local/lib/python3.10/site-packages (from gensim) (6.4.0)\n",
      "Downloading gensim-4.3.2-cp310-cp310-manylinux_2_17_x86_64.manylinux2014_x86_64.whl (26.5 MB)\n",
      "\u001b[2K   \u001b[38;2;114;156;31m━━━━━━━━━━━━━━━━━━━━━━━━━━━━━━━━━━━━━━━━\u001b[0m \u001b[32m26.5/26.5 MB\u001b[0m \u001b[31m734.5 kB/s\u001b[0m eta \u001b[36m0:00:00\u001b[0mm eta \u001b[36m0:00:01\u001b[0m[36m0:00:01\u001b[0m\n",
      "\u001b[?25hInstalling collected packages: gensim\n",
      "Successfully installed gensim-4.3.2\n",
      "\n",
      "\u001b[1m[\u001b[0m\u001b[34;49mnotice\u001b[0m\u001b[1;39;49m]\u001b[0m\u001b[39;49m A new release of pip is available: \u001b[0m\u001b[31;49m23.3.2\u001b[0m\u001b[39;49m -> \u001b[0m\u001b[32;49m24.0\u001b[0m\n",
      "\u001b[1m[\u001b[0m\u001b[34;49mnotice\u001b[0m\u001b[1;39;49m]\u001b[0m\u001b[39;49m To update, run: \u001b[0m\u001b[32;49mpython3 -m pip install --upgrade pip\u001b[0m\n"
     ]
    }
   ],
   "source": [
    "!pip install gensim"
   ]
  },
  {
   "cell_type": "code",
   "execution_count": 12,
   "id": "8321a3a4",
   "metadata": {},
   "outputs": [
    {
     "name": "stderr",
     "output_type": "stream",
     "text": [
      "/usr/lib/python3/dist-packages/scipy/__init__.py:146: UserWarning: A NumPy version >=1.17.3 and <1.25.0 is required for this version of SciPy (detected version 1.26.3\n",
      "  warnings.warn(f\"A NumPy version >={np_minversion} and <{np_maxversion}\"\n"
     ]
    }
   ],
   "source": [
    "import gensim"
   ]
  },
  {
   "cell_type": "code",
   "execution_count": 13,
   "id": "f7a17fdf",
   "metadata": {},
   "outputs": [],
   "source": [
    "all_stopwords=gensim.parsing.preprocessing.STOPWORDS"
   ]
  },
  {
   "cell_type": "code",
   "execution_count": 14,
   "id": "59c01205",
   "metadata": {},
   "outputs": [
    {
     "name": "stdout",
     "output_type": "stream",
     "text": [
      "frozenset({'formerly', 'though', 'his', 'sincere', 'couldnt', 'other', 'system', 'whoever', 'as', 'anyway', 'third', 'were', 'used', 'also', 'beyond', 'itself', 'elsewhere', 'made', 'myself', 'ltd', 'hers', 'fill', 'across', 'me', 'you', 'various', 'do', 'i', 'both', 'would', 'thereby', 'hence', 'once', 'be', 'nobody', 'it', 'why', 'another', 'off', 'hereafter', 'upon', 'ten', 'forty', 'whereafter', 'whence', 'within', 'thence', 'ie', 'behind', 'un', 'one', 'well', 'say', 'becomes', 'seems', 'where', 'indeed', 'amoungst', 'something', 'am', 'ever', 'otherwise', 'if', 'hereupon', 'full', 'per', 'four', 'is', 'almost', 'take', 'no', 'always', 'which', 'through', 'whose', 'has', 'them', 'please', 'con', 'was', 'hundred', 'keep', 'seem', 'km', 'this', 'make', 'call', 'whither', 'everything', 'whom', 'very', 'might', 'even', 'whereas', 'sometime', 'cry', 'will', 'to', 'co', 'then', 'fifty', 'except', 'since', 'towards', 'around', 'moreover', 'wherever', 'whereby', 'two', 'themselves', 'ours', 'must', 're', 'side', 'becoming', 'whole', 'become', 'while', 'besides', 'that', 'nor', 'further', 'along', 'thus', 'together', 'seemed', 'next', 'under', 'more', 'else', 'without', 'himself', 'whether', 'hereby', 'they', 'neither', 'somehow', 'and', 'being', 'go', 'few', 'therein', 'had', 'ourselves', 'regarding', 'hasnt', 'here', 'herein', 'on', 'doesn', 'we', 'bill', 'although', 'onto', 'each', 'move', 'therefore', 'eight', 'her', 'top', 'part', 'he', 'inc', 'fire', 'others', 'yet', 'she', 'describe', 'just', 'etc', 'down', 'from', 'latterly', 'nevertheless', 'three', 'how', 'the', 'whenever', 'seeming', 'by', 'over', 'only', 'yourselves', 'did', 'can', 'put', 'eleven', 'between', 'found', 'de', 'mine', 'does', 'beforehand', 'whatever', 'again', 'nine', 'thru', 'back', 'using', 'empty', 'about', 'anything', 'with', 'because', 'thick', 'when', 'same', 'latter', 'those', 'cannot', 'name', 'anyhow', 'eg', 'herself', 'show', 'yourself', 'enough', 'see', 'doing', 'amongst', 'but', 'several', 'throughout', 'own', 'who', 'became', 'noone', 'don', 'wherein', 'kg', 'via', 'mostly', 'everyone', 'perhaps', 'serious', 'should', 'never', 'often', 'nowhere', 'could', 'anywhere', 'get', 'there', 'unless', 'whereupon', 'front', 'at', 'thereafter', 'all', 'bottom', 'an', 'really', 'sixty', 'twelve', 'toward', 'still', 'six', 'too', 'after', 'much', 'somewhere', 'last', 'such', 'now', 'give', 'namely', 'already', 'these', 'find', 'detail', 'every', 'of', 'among', 'or', 'above', 'into', 'meanwhile', 'their', 'than', 'mill', 'due', 'out', 'however', 'have', 'alone', 'during', 'up', 'in', 'everywhere', 'so', 'afterwards', 'rather', 'done', 'until', 'many', 'thin', 'sometimes', 'someone', 'amount', 'most', 'either', 'nothing', 'anyone', 'may', 'beside', 'not', 'fifteen', 'our', 'any', 'first', 'five', 'less', 'yours', 'him', 'least', 'against', 'been', 'us', 'didn', 'some', 'are', 'interest', 'before', 'twenty', 'what', 'my', 'your', 'its', 'former', 'none', 'computer', 'below', 'thereupon', 'cant', 'a', 'for', 'quite'})\n"
     ]
    }
   ],
   "source": [
    "print(all_stopwords)"
   ]
  },
  {
   "cell_type": "markdown",
   "id": "a2ec2be4",
   "metadata": {},
   "source": [
    "# Adding stopwords to default gensim stopword list"
   ]
  },
  {
   "cell_type": "code",
   "execution_count": 15,
   "id": "4bdbca11",
   "metadata": {},
   "outputs": [],
   "source": [
    "#to acces the list of gensim stopword you need to import the frozenset STOPWORDS\n",
    "from gensim.parsing.preprocessing import STOPWORDS\n"
   ]
  },
  {
   "cell_type": "code",
   "execution_count": 16,
   "id": "e5f5ec8a",
   "metadata": {},
   "outputs": [
    {
     "name": "stdout",
     "output_type": "stream",
     "text": [
      "frozenset({'formerly', 'though', 'naturally', 'his', 'sincere', 'whenever', 'seeming', 'by', 'over', 'only', 'couldnt', 'yourselves', 'did', 'other', 'system', 'whoever', 'as', 'can', 'put', 'eleven', 'anyway', 'third', 'were', 'between', 'found', 'used', 'de', 'also', 'mine', 'does', 'beforehand', 'whatever', 'beyond', 'again', 'itself', 'nine', 'thru', 'back', 'elsewhere', 'using', 'made', 'myself', 'ltd', 'hers', 'empty', 'about', 'fill', 'across', 'anything', 'with', 'me', 'you', 'because', 'various', 'do', 'i', 'thick', 'when', 'same', 'latter', 'both', 'those', 'would', 'cannot', 'thereby', 'name', 'anyhow', 'eg', 'herself', 'show', 'hence', 'once', 'yourself', 'be', 'enough', 'nobody', 'it', 'why', 'see', 'another', 'off', 'doing', 'hereafter', 'upon', 'ten', 'forty', 'amongst', 'but', 'several', 'whereafter', 'throughout', 'whence', 'own', 'within', 'who', 'thence', 'ie', 'became', 'noone', 'don', 'behind', 'wherein', 'un', 'one', 'kg', 'well', 'via', 'mostly', 'say', 'becomes', 'everyone', 'perhaps', 'seems', 'where', 'serious', 'indeed', 'should', 'never', 'often', 'nowhere', 'could', 'amoungst', 'something', 'the', 'anywhere', 'get', 'am', 'there', 'ever', 'unless', 'otherwise', 'if', 'hereupon', 'whereupon', 'full', 'per', 'four', 'is', 'front', 'at', 'thereafter', 'almost', 'take', 'all', 'bottom', 'no', 'always', 'which', 'an', 'really', 'sixty', 'through', 'whose', 'has', 'twelve', 'them', 'please', 'con', 'toward', 'was', 'hundred', 'still', 'six', 'keep', 'too', 'seem', 'km', 'after', 'much', 'this', 'somewhere', 'make', 'last', 'call', 'such', 'whither', 'everything', 'now', 'give', 'namely', 'already', 'these', 'find', 'whom', 'detail', 'every', 'very', 'of', 'among', 'might', 'even', 'or', 'whereas', 'above', 'sometime', 'cry', 'will', 'into', 'to', 'meanwhile', 'their', 'co', 'then', 'fifty', 'except', 'than', 'mill', 'due', 'out', 'since', 'however', 'have', 'alone', 'towards', 'during', 'around', 'up', 'moreover', 'in', 'wherever', 'everywhere', 'so', 'whereby', 'two', 'themselves', 'ours', 'afterwards', 'must', 're', 'side', 'becoming', 'rather', 'whole', 'become', 'while', 'done', 'besides', 'until', 'that', 'many', 'thin', 'nor', 'sometimes', 'someone', 'further', 'along', 'thus', 'amount', 'most', 'together', 'either', 'seemed', 'nothing', 'anyone', 'may', 'next', 'beside', 'not', 'under', 'more', 'else', 'fifteen', 'our', 'without', 'any', 'first', 'five', 'less', 'yours', 'him', 'least', 'himself', 'whether', 'hereby', 'they', 'against', 'neither', 'been', 'somehow', 'and', 'being', 'go', 'few', 'therein', 'had', 'ourselves', 'regarding', 'hasnt', 'us', 'here', 'didn', 'some', 'are', 'interest', 'herein', 'on', 'doesn', 'before', 'we', 'twenty', 'bill', 'although', 'onto', 'what', 'each', 'move', 'therefore', 'eight', 'my', 'her', 'your', 'its', 'top', 'former', 'part', 'he', 'inc', 'none', 'fire', 'computer', 'below', 'others', 'yet', 'she', 'company', 'describe', 'just', 'etc', 'down', 'thereupon', 'cant', 'a', 'for', 'from', 'latterly', 'nevertheless', 'quite', 'three', 'how'})\n"
     ]
    }
   ],
   "source": [
    "all_stopwords_gensim=STOPWORDS.union(set(['naturally','company']))\n",
    "print(all_stopwords_gensim)"
   ]
  },
  {
   "cell_type": "markdown",
   "id": "2273edef",
   "metadata": {},
   "source": [
    "# Removing stopwords from default Gensim Stopwordlist"
   ]
  },
  {
   "cell_type": "code",
   "execution_count": 17,
   "id": "569ca32b",
   "metadata": {},
   "outputs": [
    {
     "name": "stdout",
     "output_type": "stream",
     "text": [
      "frozenset({'formerly', 'though', 'his', 'sincere', 'couldnt', 'other', 'system', 'whoever', 'as', 'anyway', 'third', 'were', 'used', 'also', 'beyond', 'itself', 'elsewhere', 'made', 'myself', 'ltd', 'hers', 'fill', 'across', 'me', 'you', 'various', 'do', 'i', 'both', 'would', 'thereby', 'hence', 'once', 'be', 'nobody', 'it', 'why', 'another', 'off', 'hereafter', 'upon', 'ten', 'forty', 'whereafter', 'whence', 'within', 'thence', 'ie', 'behind', 'un', 'one', 'well', 'say', 'becomes', 'seems', 'where', 'indeed', 'amoungst', 'something', 'am', 'ever', 'otherwise', 'if', 'hereupon', 'full', 'per', 'four', 'is', 'almost', 'take', 'no', 'always', 'which', 'through', 'whose', 'has', 'them', 'please', 'con', 'was', 'hundred', 'keep', 'seem', 'km', 'this', 'make', 'call', 'whither', 'everything', 'whom', 'very', 'might', 'even', 'whereas', 'sometime', 'cry', 'will', 'to', 'co', 'then', 'fifty', 'except', 'since', 'towards', 'around', 'moreover', 'wherever', 'whereby', 'two', 'themselves', 'ours', 'must', 're', 'side', 'becoming', 'whole', 'become', 'while', 'besides', 'that', 'nor', 'further', 'along', 'thus', 'together', 'seemed', 'next', 'under', 'more', 'else', 'without', 'himself', 'whether', 'hereby', 'they', 'neither', 'somehow', 'and', 'being', 'go', 'few', 'therein', 'had', 'ourselves', 'regarding', 'hasnt', 'here', 'herein', 'on', 'doesn', 'we', 'bill', 'although', 'onto', 'each', 'move', 'therefore', 'eight', 'her', 'top', 'part', 'he', 'inc', 'fire', 'others', 'yet', 'she', 'describe', 'just', 'etc', 'down', 'from', 'latterly', 'nevertheless', 'three', 'how', 'the', 'whenever', 'seeming', 'by', 'over', 'only', 'yourselves', 'did', 'can', 'put', 'eleven', 'between', 'found', 'de', 'mine', 'does', 'beforehand', 'whatever', 'again', 'nine', 'thru', 'back', 'using', 'empty', 'about', 'anything', 'with', 'because', 'thick', 'when', 'same', 'latter', 'those', 'cannot', 'name', 'anyhow', 'eg', 'herself', 'show', 'yourself', 'enough', 'see', 'doing', 'amongst', 'but', 'several', 'throughout', 'own', 'who', 'became', 'noone', 'don', 'wherein', 'kg', 'via', 'mostly', 'everyone', 'perhaps', 'serious', 'should', 'never', 'often', 'nowhere', 'could', 'anywhere', 'get', 'there', 'unless', 'whereupon', 'front', 'at', 'thereafter', 'all', 'bottom', 'an', 'really', 'sixty', 'twelve', 'toward', 'still', 'six', 'too', 'after', 'much', 'somewhere', 'last', 'such', 'now', 'give', 'namely', 'already', 'these', 'find', 'detail', 'every', 'of', 'among', 'or', 'above', 'into', 'meanwhile', 'their', 'than', 'mill', 'due', 'out', 'however', 'have', 'alone', 'during', 'up', 'in', 'everywhere', 'so', 'afterwards', 'rather', 'done', 'until', 'many', 'thin', 'sometimes', 'someone', 'amount', 'most', 'either', 'nothing', 'anyone', 'may', 'beside', 'not', 'fifteen', 'our', 'any', 'first', 'five', 'less', 'yours', 'him', 'least', 'against', 'been', 'us', 'didn', 'some', 'are', 'interest', 'before', 'twenty', 'what', 'my', 'your', 'its', 'former', 'none', 'computer', 'below', 'thereupon', 'cant', 'a', 'for', 'quite'})\n"
     ]
    }
   ],
   "source": [
    "all_stopwords_gensim=STOPWORDS\n",
    "print(all_stopwords_gensim)"
   ]
  },
  {
   "cell_type": "code",
   "execution_count": 19,
   "id": "539e9e67",
   "metadata": {},
   "outputs": [],
   "source": [
    "all_stopwords_gensim=STOPWORDS.difference(set(['really']))"
   ]
  },
  {
   "cell_type": "markdown",
   "id": "38f74418",
   "metadata": {},
   "source": [
    "# APPLY to Email Dataset"
   ]
  },
  {
   "cell_type": "code",
   "execution_count": 20,
   "id": "47d5dfee",
   "metadata": {},
   "outputs": [],
   "source": [
    "from gensim.utils import tokenize"
   ]
  },
  {
   "cell_type": "code",
   "execution_count": 24,
   "id": "dcf8a736",
   "metadata": {},
   "outputs": [
    {
     "data": {
      "text/plain": [
       "\"Subject: naturally it's your irresistible your corporate identity  lt is really hard to recollect a company : the  market is full of suqgestions and the information isoverwhelminq ; but a good  catchy logo , stylish statlonery and outstanding website  will make the task much easier .  we don't promise that havinq ordered a iogo your  company will automaticaily become a world ieader : it isguite ciear that  without good products , effective business organization and practicable aim it  will be hotat nowadays market ; but we do promise that your marketing efforts  will become much more effective . here is the list of clear  benefits : creativeness : hand - made , original logos , specially done  to reflect your distinctive company image . convenience : logo and stationery  are provided in all formats ; easy - to - use content management system letsyou  change your website content and even its structure . promptness : you'll see logo drafts within three business days . affordability : your  marketing break - through shouldn't make gaps in your budget . 100 % satisfaction  guaranteed : we provide unlimited amount of changes with no extra fees for you to  be surethat you will love the result of this collaboration . have a look at our  portfolio _ _ _ _ _ _ _ _ _ _ _ _ _ _ _ _ _ _ _ _ _ _ _ _ _ _ _ _ _ _ _ _ _ _ _ _ _ _ _ _ _ _ _ _ _ _ _ _ _ _ _ _ not interested . . . _ _ _ _ _ _ _ _ _ _ _ _ _ _ _ _ _ _ _ _ _ _ _ _ _ _ _ _ _ _ _ _ _ _ _ _ _ _ _ _ _ _ _ _ _ _ _ _ _ _ _ _\""
      ]
     },
     "execution_count": 24,
     "metadata": {},
     "output_type": "execute_result"
    }
   ],
   "source": [
    "Text=data['text'][0]\n",
    "Text"
   ]
  },
  {
   "cell_type": "code",
   "execution_count": 25,
   "id": "041ceed1",
   "metadata": {},
   "outputs": [
    {
     "name": "stdout",
     "output_type": "stream",
     "text": [
      "['Subject', 'naturally', 's', 'irresistible', 'corporate', 'identity', 'lt', 'really', 'hard', 'recollect', 'company', 'market', 'suqgestions', 'information', 'isoverwhelminq', 'good', 'catchy', 'logo', 'stylish', 'statlonery', 'outstanding', 'website', 'task', 'easier', 't', 'promise', 'havinq', 'ordered', 'iogo', 'company', 'automaticaily', 'world', 'ieader', 'isguite', 'ciear', 'good', 'products', 'effective', 'business', 'organization', 'practicable', 'aim', 'hotat', 'nowadays', 'market', 'promise', 'marketing', 'efforts', 'effective', 'list', 'clear', 'benefits', 'creativeness', 'hand', 'original', 'logos', 'specially', 'reflect', 'distinctive', 'company', 'image', 'convenience', 'logo', 'stationery', 'provided', 'formats', 'easy', 'use', 'content', 'management', 'letsyou', 'change', 'website', 'content', 'structure', 'promptness', 'll', 'logo', 'drafts', 'business', 'days', 'affordability', 'marketing', 'break', 'shouldn', 't', 'gaps', 'budget', 'satisfaction', 'guaranteed', 'provide', 'unlimited', 'changes', 'extra', 'fees', 'surethat', 'love', 'result', 'collaboration', 'look', 'portfolio', '_', '_', '_', '_', '_', '_', '_', '_', '_', '_', '_', '_', '_', '_', '_', '_', '_', '_', '_', '_', '_', '_', '_', '_', '_', '_', '_', '_', '_', '_', '_', '_', '_', '_', '_', '_', '_', '_', '_', '_', '_', '_', '_', '_', '_', '_', '_', '_', '_', '_', '_', '_', 'interested', '_', '_', '_', '_', '_', '_', '_', '_', '_', '_', '_', '_', '_', '_', '_', '_', '_', '_', '_', '_', '_', '_', '_', '_', '_', '_', '_', '_', '_', '_', '_', '_', '_', '_', '_', '_', '_', '_', '_', '_', '_', '_', '_', '_', '_', '_', '_', '_', '_', '_', '_', '_']\n"
     ]
    }
   ],
   "source": [
    "tokens=list(tokenize(Text))\n",
    "tokens_without_sw=[word for word in tokens if word not in all_stopwords_gensim]\n",
    "print(tokens_without_sw)"
   ]
  },
  {
   "cell_type": "markdown",
   "id": "b8ef3efa",
   "metadata": {},
   "source": [
    "# Stopword operations using NLTK"
   ]
  },
  {
   "cell_type": "code",
   "execution_count": 26,
   "id": "69a23e7a",
   "metadata": {},
   "outputs": [
    {
     "name": "stderr",
     "output_type": "stream",
     "text": [
      "[nltk_data] Downloading package stopwords to\n",
      "[nltk_data]     /home/student/nltk_data...\n",
      "[nltk_data]   Package stopwords is already up-to-date!\n"
     ]
    }
   ],
   "source": [
    "import nltk\n",
    "from nltk.corpus import stopwords\n",
    "nltk.download('stopwords')\n",
    "from nltk.tokenize import word_tokenize"
   ]
  },
  {
   "cell_type": "code",
   "execution_count": 27,
   "id": "7f4d5948",
   "metadata": {},
   "outputs": [
    {
     "name": "stdout",
     "output_type": "stream",
     "text": [
      "{'now', 'ain', 'his', 'these', 'o', 'whom', 'how', 'very', 'of', 'shouldn', 'm', 'by', 'over', 'wasn', 'only', 'yourselves', 'did', 'or', 'other', 'above', 'as', 'can', \"shouldn't\", 'were', 'between', 'will', \"shan't\", 'into', 'their', 'to', 'then', 'does', \"won't\", 'than', \"couldn't\", 'theirs', \"you're\", 'out', 'again', 'itself', 'have', 'isn', 'haven', 'during', 'myself', \"mustn't\", 'hers', \"should've\", 'up', 'in', 'about', 'so', 'wouldn', 'with', 'me', 'themselves', 'ours', 'you', 'because', 'do', 're', 'i', 'mightn', \"wouldn't\", \"weren't\", \"you'd\", 'when', 'same', 'while', 'those', 'both', 'until', 'that', 'herself', 'nor', 'yourself', 'once', 'be', 'further', 'it', 'why', \"she's\", 'doing', 'off', 'most', 'but', 'hadn', 't', 'shan', \"don't\", \"doesn't\", 'own', 'who', 'y', 'not', 'under', 'more', \"isn't\", 'our', 'any', 'don', \"it's\", 'yours', 's', 'him', 'himself', \"aren't\", \"needn't\", 'ma', 'they', 'where', 'should', 'having', \"that'll\", 'against', 'been', 'and', 'being', \"hadn't\", 'am', 'hasn', 'few', 'there', 'aren', 'll', 'ourselves', 'had', 'weren', 'if', 'here', 'didn', \"didn't\", 'are', 'some', 'on', 'doesn', 'before', 'we', 'is', 'at', 'all', 'what', \"wasn't\", \"you've\", 'each', 'no', 'which', 'an', 'd', 'my', 'through', 'her', 'your', 'has', 'its', 'them', 'he', 'was', 'couldn', 'below', 'too', 'won', 'after', 'mustn', 'this', \"you'll\", 'she', 've', 'just', 'such', \"hasn't\", 'down', 'a', 'for', 'needn', 'from', \"mightn't\", \"haven't\", 'the'}\n"
     ]
    }
   ],
   "source": [
    "stop_words=set(stopwords.words('english'))\n",
    "print(stop_words)"
   ]
  },
  {
   "cell_type": "markdown",
   "id": "96fbe9ef",
   "metadata": {},
   "source": [
    "# Remove stopwords using nltk"
   ]
  },
  {
   "cell_type": "code",
   "execution_count": 28,
   "id": "6e015fe7",
   "metadata": {},
   "outputs": [
    {
     "name": "stdout",
     "output_type": "stream",
     "text": [
      "{'now', 'ain', 'his', 'these', 'o', 'whom', 'how', 'very', 'of', 'shouldn', 'm', 'by', 'over', 'wasn', 'only', 'yourselves', 'did', 'or', 'other', 'above', 'can', \"shouldn't\", 'were', 'between', 'will', \"shan't\", 'into', 'their', 'to', 'then', 'does', \"won't\", 'than', \"couldn't\", 'theirs', \"you're\", 'out', 'again', 'itself', 'have', 'isn', 'haven', 'during', 'myself', \"mustn't\", 'hers', \"should've\", 'up', 'in', 'about', 'so', 'wouldn', 'with', 'me', 'themselves', 'ours', 'you', 'because', 'do', 're', 'i', 'mightn', \"wouldn't\", \"weren't\", \"you'd\", 'when', 'same', 'while', 'those', 'both', 'until', 'that', 'herself', 'nor', 'yourself', 'once', 'be', 'further', 'it', 'why', \"she's\", 'doing', 'off', 'most', 'but', 'hadn', 't', 'shan', \"don't\", \"doesn't\", 'own', 'who', 'y', 'not', 'under', 'more', \"isn't\", 'our', 'any', 'don', \"it's\", 'yours', 's', 'him', 'himself', \"aren't\", \"needn't\", 'ma', 'they', 'where', 'should', 'having', \"that'll\", 'against', 'been', 'and', 'being', \"hadn't\", 'am', 'hasn', 'few', 'there', 'aren', 'll', 'ourselves', 'had', 'weren', 'if', 'here', 'didn', \"didn't\", 'are', 'some', 'on', 'doesn', 'before', 'we', 'is', 'at', 'all', 'what', \"wasn't\", \"you've\", 'each', 'no', 'which', 'an', 'd', 'my', 'through', 'her', 'your', 'has', 'its', 'them', 'he', 'was', 'couldn', 'below', 'too', 'won', 'after', 'mustn', 'this', \"you'll\", 'she', 've', 'just', 'such', \"hasn't\", 'down', 'a', 'for', 'needn', 'from', \"mightn't\", \"haven't\", 'the'}\n"
     ]
    }
   ],
   "source": [
    "stop_words.remove('as')\n",
    "print(stop_words)"
   ]
  },
  {
   "cell_type": "markdown",
   "id": "9d56dd8a",
   "metadata": {},
   "source": [
    "# add stop words using nltk"
   ]
  },
  {
   "cell_type": "code",
   "execution_count": 29,
   "id": "a8917e00",
   "metadata": {},
   "outputs": [
    {
     "name": "stdout",
     "output_type": "stream",
     "text": [
      "{'now', 'ain', 'his', 'these', 'o', 'whom', 'how', 'very', 'of', 'shouldn', 'm', 'by', 'over', 'wasn', 'only', 'yourselves', 'did', 'or', 'other', 'above', 'can', \"shouldn't\", 'were', 'between', 'will', \"shan't\", 'into', 'their', 'to', 'then', 'does', \"won't\", 'than', \"couldn't\", 'theirs', \"you're\", 'out', 'again', 'itself', 'have', 'isn', 'haven', 'during', 'myself', \"mustn't\", 'hers', \"should've\", 'up', 'in', 'about', 'so', 'wouldn', 'with', 'me', 'themselves', 'ours', 'you', 'because', 'do', 're', 'i', 'mightn', \"wouldn't\", \"weren't\", \"you'd\", 'when', 'same', 'while', 'those', 'both', 'until', 'that', 'herself', 'nor', 'yourself', 'once', 'be', 'further', 'it', 'why', \"she's\", 'doing', 'off', 'most', 'but', 'hadn', 't', 'shan', \"don't\", \"doesn't\", 'own', 'Subject:', 'who', 'y', 'not', 'under', 'more', \"isn't\", 'our', 'any', 'don', \"it's\", 'yours', 's', 'him', 'himself', \"aren't\", \"needn't\", 'ma', 'they', 'where', 'should', 'having', \"that'll\", 'against', 'been', 'and', 'being', \"hadn't\", 'am', 'hasn', 'few', 'there', 'aren', 'll', 'ourselves', 'had', 'weren', 'if', 'here', 'didn', \"didn't\", 'are', 'some', 'on', 'doesn', 'before', 'we', 'is', 'at', 'all', 'what', \"wasn't\", \"you've\", 'each', 'no', 'which', 'an', 'd', 'my', 'through', 'her', 'your', 'has', 'its', 'them', 'he', 'was', 'couldn', 'below', 'too', 'won', 'after', 'mustn', 'this', \"you'll\", 'she', 've', 'just', 'such', \"hasn't\", 'down', 'a', 'for', 'needn', 'from', \"mightn't\", \"haven't\", 'the'}\n"
     ]
    }
   ],
   "source": [
    "stop_words.add('Subject:')\n",
    "print(stop_words)"
   ]
  },
  {
   "cell_type": "markdown",
   "id": "937bd6b7",
   "metadata": {},
   "source": [
    "# Apply to the dataset"
   ]
  },
  {
   "cell_type": "code",
   "execution_count": 30,
   "id": "b9e0ffd7",
   "metadata": {},
   "outputs": [
    {
     "data": {
      "text/plain": [
       "\"Subject: naturally it's your irresistible your corporate identity  lt is really hard to recollect a company : the  market is full of suqgestions and the information isoverwhelminq ; but a good  catchy logo , stylish statlonery and outstanding website  will make the task much easier .  we don't promise that havinq ordered a iogo your  company will automaticaily become a world ieader : it isguite ciear that  without good products , effective business organization and practicable aim it  will be hotat nowadays market ; but we do promise that your marketing efforts  will become much more effective . here is the list of clear  benefits : creativeness : hand - made , original logos , specially done  to reflect your distinctive company image . convenience : logo and stationery  are provided in all formats ; easy - to - use content management system letsyou  change your website content and even its structure . promptness : you'll see logo drafts within three business days . affordability : your  marketing break - through shouldn't make gaps in your budget . 100 % satisfaction  guaranteed : we provide unlimited amount of changes with no extra fees for you to  be surethat you will love the result of this collaboration . have a look at our  portfolio _ _ _ _ _ _ _ _ _ _ _ _ _ _ _ _ _ _ _ _ _ _ _ _ _ _ _ _ _ _ _ _ _ _ _ _ _ _ _ _ _ _ _ _ _ _ _ _ _ _ _ _ not interested . . . _ _ _ _ _ _ _ _ _ _ _ _ _ _ _ _ _ _ _ _ _ _ _ _ _ _ _ _ _ _ _ _ _ _ _ _ _ _ _ _ _ _ _ _ _ _ _ _ _ _ _ _\""
      ]
     },
     "execution_count": 30,
     "metadata": {},
     "output_type": "execute_result"
    }
   ],
   "source": [
    "Text=data['text'][0]\n",
    "Text"
   ]
  },
  {
   "cell_type": "code",
   "execution_count": 31,
   "id": "ec6513b2",
   "metadata": {},
   "outputs": [
    {
     "data": {
      "text/plain": [
       "'4 color printing special request additional information ! click click printable version order form ( pdf format ) phone : ( 626 ) 338 - 8090 fax : ( 626 ) 338 - 8102 e - mail : ramsey @ goldengraphix . com request additional information ! click click printable version order form ( pdf format ) golden graphix & printing 5110 azusa canyon rd . irwindale , ca 91706 e - mail message advertisement / solicitation games54 Game5S4 .'"
      ]
     },
     "execution_count": 31,
     "metadata": {},
     "output_type": "execute_result"
    }
   ],
   "source": [
    "def remove_stopwords(text):\n",
    "    return \" \".join([word for word in str(text).split() if word not in stop_words])\n",
    "data['text']=data['text'].apply(lambda x:remove_stopwords(x))\n",
    "data['text'][3]"
   ]
  },
  {
   "cell_type": "code",
   "execution_count": null,
   "id": "b416bf31",
   "metadata": {},
   "outputs": [],
   "source": []
  }
 ],
 "metadata": {
  "kernelspec": {
   "display_name": "Python 3 (ipykernel)",
   "language": "python",
   "name": "python3"
  },
  "language_info": {
   "codemirror_mode": {
    "name": "ipython",
    "version": 3
   },
   "file_extension": ".py",
   "mimetype": "text/x-python",
   "name": "python",
   "nbconvert_exporter": "python",
   "pygments_lexer": "ipython3",
   "version": "3.10.12"
  }
 },
 "nbformat": 4,
 "nbformat_minor": 5
}
