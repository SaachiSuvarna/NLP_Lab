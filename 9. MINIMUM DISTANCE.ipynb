{
 "cells": [
  {
   "cell_type": "markdown",
   "id": "d5f0da8a",
   "metadata": {},
   "source": [
    "# Using User-Defined Function"
   ]
  },
  {
   "cell_type": "code",
   "execution_count": 1,
   "id": "8bb6745e",
   "metadata": {},
   "outputs": [],
   "source": [
    "def minimum_edit_distance(str1, str2, m, n):\n",
    "    string_matrix= [[0 for i in range(n+ 1)] for i in range(m+ 1)]\n",
    "    \n",
    "    for i in range(m+ 1):\n",
    "        for j in range(n+ 1):\n",
    "            \n",
    "            if i== 0:\n",
    "                string_matrix[i][j]= j\n",
    "                \n",
    "            elif j== 0:\n",
    "                string_matrix[i][j]= i\n",
    "                \n",
    "            elif str1[i- 1]== str2[j- 1]:\n",
    "                string_matrix[i][j]= string_matrix[i- 1][j- 1]\n",
    "            \n",
    "            else:\n",
    "                string_matrix[i][j]= 1+ min(string_matrix[i][j- 1],\n",
    "                                           string_matrix[i- 1][j],\n",
    "                                           string_matrix[i- 1][j- 1])\n",
    "                \n",
    "    return string_matrix[m][n]"
   ]
  },
  {
   "cell_type": "code",
   "execution_count": 2,
   "id": "5d1df01a",
   "metadata": {},
   "outputs": [
    {
     "name": "stdout",
     "output_type": "stream",
     "text": [
      "No. of Operation required:  1\n",
      "No. of Operation required:  3\n"
     ]
    }
   ],
   "source": [
    "if __name__== '__main__':\n",
    "    \n",
    "    str1= 'Rats'\n",
    "    str2= 'Cats'\n",
    "    \n",
    "    print('No. of Operation required: ', minimum_edit_distance(str1, str2, len(str1), len(str2)))\n",
    "    \n",
    "    str3= 'Saturday'\n",
    "    str4= 'Sunday'\n",
    "    \n",
    "    print('No. of Operation required: ', minimum_edit_distance(str3, str4, len(str3), len(str4)))"
   ]
  },
  {
   "cell_type": "markdown",
   "id": "d049bb8d",
   "metadata": {},
   "source": [
    "# Using Built-in Function"
   ]
  },
  {
   "cell_type": "code",
   "execution_count": 3,
   "id": "b882b83d",
   "metadata": {
    "scrolled": false
   },
   "outputs": [],
   "source": [
    "# pip install editdistance"
   ]
  },
  {
   "cell_type": "code",
   "execution_count": 4,
   "id": "15665425",
   "metadata": {},
   "outputs": [
    {
     "data": {
      "text/plain": [
       "3"
      ]
     },
     "execution_count": 4,
     "metadata": {},
     "output_type": "execute_result"
    }
   ],
   "source": [
    "import editdistance\n",
    "\n",
    "editdistance.eval('Saturday', 'Sunday')"
   ]
  },
  {
   "cell_type": "code",
   "execution_count": null,
   "id": "66dacb93",
   "metadata": {},
   "outputs": [],
   "source": []
  }
 ],
 "metadata": {
  "kernelspec": {
   "display_name": "Python 3 (ipykernel)",
   "language": "python",
   "name": "python3"
  },
  "language_info": {
   "codemirror_mode": {
    "name": "ipython",
    "version": 3
   },
   "file_extension": ".py",
   "mimetype": "text/x-python",
   "name": "python",
   "nbconvert_exporter": "python",
   "pygments_lexer": "ipython3",
   "version": "3.10.12"
  }
 },
 "nbformat": 4,
 "nbformat_minor": 5
}
