{
 "cells": [
  {
   "cell_type": "code",
   "execution_count": 1,
   "id": "9b924de1",
   "metadata": {},
   "outputs": [
    {
     "name": "stdout",
     "output_type": "stream",
     "text": [
      "['cricket' 'heena' 'john' 'likes' 'mary' 'or' 'play' 'shaw' 'tennis'\n",
      " 'throwball' 'to' 'top' 'voleyball']\n"
     ]
    },
    {
     "data": {
      "text/html": [
       "<div>\n",
       "<style scoped>\n",
       "    .dataframe tbody tr th:only-of-type {\n",
       "        vertical-align: middle;\n",
       "    }\n",
       "\n",
       "    .dataframe tbody tr th {\n",
       "        vertical-align: top;\n",
       "    }\n",
       "\n",
       "    .dataframe thead tr th {\n",
       "        text-align: left;\n",
       "    }\n",
       "</style>\n",
       "<table border=\"1\" class=\"dataframe\">\n",
       "  <thead>\n",
       "    <tr>\n",
       "      <th></th>\n",
       "      <th>cricket</th>\n",
       "      <th>heena</th>\n",
       "      <th>john</th>\n",
       "      <th>likes</th>\n",
       "      <th>mary</th>\n",
       "      <th>or</th>\n",
       "      <th>play</th>\n",
       "      <th>shaw</th>\n",
       "      <th>tennis</th>\n",
       "      <th>throwball</th>\n",
       "      <th>to</th>\n",
       "      <th>top</th>\n",
       "      <th>voleyball</th>\n",
       "    </tr>\n",
       "  </thead>\n",
       "  <tbody>\n",
       "    <tr>\n",
       "      <th>0</th>\n",
       "      <td>1</td>\n",
       "      <td>0</td>\n",
       "      <td>0</td>\n",
       "      <td>1</td>\n",
       "      <td>0</td>\n",
       "      <td>0</td>\n",
       "      <td>1</td>\n",
       "      <td>1</td>\n",
       "      <td>0</td>\n",
       "      <td>0</td>\n",
       "      <td>1</td>\n",
       "      <td>0</td>\n",
       "      <td>0</td>\n",
       "    </tr>\n",
       "    <tr>\n",
       "      <th>1</th>\n",
       "      <td>0</td>\n",
       "      <td>0</td>\n",
       "      <td>0</td>\n",
       "      <td>1</td>\n",
       "      <td>1</td>\n",
       "      <td>0</td>\n",
       "      <td>1</td>\n",
       "      <td>0</td>\n",
       "      <td>1</td>\n",
       "      <td>0</td>\n",
       "      <td>1</td>\n",
       "      <td>0</td>\n",
       "      <td>0</td>\n",
       "    </tr>\n",
       "    <tr>\n",
       "      <th>2</th>\n",
       "      <td>1</td>\n",
       "      <td>0</td>\n",
       "      <td>1</td>\n",
       "      <td>1</td>\n",
       "      <td>0</td>\n",
       "      <td>1</td>\n",
       "      <td>1</td>\n",
       "      <td>0</td>\n",
       "      <td>0</td>\n",
       "      <td>0</td>\n",
       "      <td>1</td>\n",
       "      <td>0</td>\n",
       "      <td>1</td>\n",
       "    </tr>\n",
       "    <tr>\n",
       "      <th>3</th>\n",
       "      <td>0</td>\n",
       "      <td>1</td>\n",
       "      <td>0</td>\n",
       "      <td>1</td>\n",
       "      <td>0</td>\n",
       "      <td>1</td>\n",
       "      <td>1</td>\n",
       "      <td>0</td>\n",
       "      <td>1</td>\n",
       "      <td>1</td>\n",
       "      <td>0</td>\n",
       "      <td>1</td>\n",
       "      <td>0</td>\n",
       "    </tr>\n",
       "  </tbody>\n",
       "</table>\n",
       "</div>"
      ],
      "text/plain": [
       "  cricket heena john likes mary or play shaw tennis throwball to top voleyball\n",
       "0       1     0    0     1    0  0    1    1      0         0  1   0         0\n",
       "1       0     0    0     1    1  0    1    0      1         0  1   0         0\n",
       "2       1     0    1     1    0  1    1    0      0         0  1   0         1\n",
       "3       0     1    0     1    0  1    1    0      1         1  0   1         0"
      ]
     },
     "execution_count": 1,
     "metadata": {},
     "output_type": "execute_result"
    }
   ],
   "source": [
    "msg= [\"Shaw likes to play cricket\", \n",
    "     \"Mary likes to play tennis\",\n",
    "     \"John likes to play voleyball or cricket\",\n",
    "     \"Heena likes top play tennis or throwball\"]\n",
    "\n",
    "from sklearn.feature_extraction.text import CountVectorizer, TfidfVectorizer\n",
    "import pandas as pd\n",
    "\n",
    "vec= CountVectorizer()\n",
    "bag= vec.fit_transform(msg).toarray()\n",
    "print(vec.get_feature_names_out())\n",
    "df= pd.DataFrame(bag, columns= [vec.get_feature_names_out()])\n",
    "df"
   ]
  },
  {
   "cell_type": "markdown",
   "id": "34ad0be8",
   "metadata": {},
   "source": [
    "# TF-IDF (Term Frequency - Inverse Document Frequency)"
   ]
  },
  {
   "cell_type": "code",
   "execution_count": 2,
   "id": "3e44b5f4",
   "metadata": {},
   "outputs": [
    {
     "name": "stdout",
     "output_type": "stream",
     "text": [
      "['cricket' 'heena' 'john' 'likes' 'mary' 'or' 'play' 'shaw' 'tennis'\n",
      " 'throwball' 'to' 'top' 'voleyball']\n"
     ]
    },
    {
     "data": {
      "text/html": [
       "<div>\n",
       "<style scoped>\n",
       "    .dataframe tbody tr th:only-of-type {\n",
       "        vertical-align: middle;\n",
       "    }\n",
       "\n",
       "    .dataframe tbody tr th {\n",
       "        vertical-align: top;\n",
       "    }\n",
       "\n",
       "    .dataframe thead th {\n",
       "        text-align: right;\n",
       "    }\n",
       "</style>\n",
       "<table border=\"1\" class=\"dataframe\">\n",
       "  <thead>\n",
       "    <tr style=\"text-align: right;\">\n",
       "      <th></th>\n",
       "      <th>cricket</th>\n",
       "      <th>heena</th>\n",
       "      <th>john</th>\n",
       "      <th>likes</th>\n",
       "      <th>mary</th>\n",
       "      <th>or</th>\n",
       "      <th>play</th>\n",
       "      <th>shaw</th>\n",
       "      <th>tennis</th>\n",
       "      <th>throwball</th>\n",
       "      <th>to</th>\n",
       "      <th>top</th>\n",
       "      <th>voleyball</th>\n",
       "    </tr>\n",
       "  </thead>\n",
       "  <tbody>\n",
       "    <tr>\n",
       "      <th>0</th>\n",
       "      <td>0.491450</td>\n",
       "      <td>0.000000</td>\n",
       "      <td>0.000000</td>\n",
       "      <td>0.325285</td>\n",
       "      <td>0.000000</td>\n",
       "      <td>0.000000</td>\n",
       "      <td>0.325285</td>\n",
       "      <td>0.623342</td>\n",
       "      <td>0.000000</td>\n",
       "      <td>0.000000</td>\n",
       "      <td>0.397871</td>\n",
       "      <td>0.000000</td>\n",
       "      <td>0.000000</td>\n",
       "    </tr>\n",
       "    <tr>\n",
       "      <th>1</th>\n",
       "      <td>0.000000</td>\n",
       "      <td>0.000000</td>\n",
       "      <td>0.000000</td>\n",
       "      <td>0.325285</td>\n",
       "      <td>0.623342</td>\n",
       "      <td>0.000000</td>\n",
       "      <td>0.325285</td>\n",
       "      <td>0.000000</td>\n",
       "      <td>0.491450</td>\n",
       "      <td>0.000000</td>\n",
       "      <td>0.397871</td>\n",
       "      <td>0.000000</td>\n",
       "      <td>0.000000</td>\n",
       "    </tr>\n",
       "    <tr>\n",
       "      <th>2</th>\n",
       "      <td>0.384924</td>\n",
       "      <td>0.000000</td>\n",
       "      <td>0.488227</td>\n",
       "      <td>0.254777</td>\n",
       "      <td>0.000000</td>\n",
       "      <td>0.384924</td>\n",
       "      <td>0.254777</td>\n",
       "      <td>0.000000</td>\n",
       "      <td>0.000000</td>\n",
       "      <td>0.000000</td>\n",
       "      <td>0.311629</td>\n",
       "      <td>0.000000</td>\n",
       "      <td>0.488227</td>\n",
       "    </tr>\n",
       "    <tr>\n",
       "      <th>3</th>\n",
       "      <td>0.000000</td>\n",
       "      <td>0.457016</td>\n",
       "      <td>0.000000</td>\n",
       "      <td>0.238490</td>\n",
       "      <td>0.000000</td>\n",
       "      <td>0.360316</td>\n",
       "      <td>0.238490</td>\n",
       "      <td>0.000000</td>\n",
       "      <td>0.360316</td>\n",
       "      <td>0.457016</td>\n",
       "      <td>0.000000</td>\n",
       "      <td>0.457016</td>\n",
       "      <td>0.000000</td>\n",
       "    </tr>\n",
       "  </tbody>\n",
       "</table>\n",
       "</div>"
      ],
      "text/plain": [
       "    cricket     heena      john     likes      mary        or      play  \\\n",
       "0  0.491450  0.000000  0.000000  0.325285  0.000000  0.000000  0.325285   \n",
       "1  0.000000  0.000000  0.000000  0.325285  0.623342  0.000000  0.325285   \n",
       "2  0.384924  0.000000  0.488227  0.254777  0.000000  0.384924  0.254777   \n",
       "3  0.000000  0.457016  0.000000  0.238490  0.000000  0.360316  0.238490   \n",
       "\n",
       "       shaw    tennis  throwball        to       top  voleyball  \n",
       "0  0.623342  0.000000   0.000000  0.397871  0.000000   0.000000  \n",
       "1  0.000000  0.491450   0.000000  0.397871  0.000000   0.000000  \n",
       "2  0.000000  0.000000   0.000000  0.311629  0.000000   0.488227  \n",
       "3  0.000000  0.360316   0.457016  0.000000  0.457016   0.000000  "
      ]
     },
     "execution_count": 2,
     "metadata": {},
     "output_type": "execute_result"
    }
   ],
   "source": [
    "vec= TfidfVectorizer()\n",
    "bag= vec.fit_transform(msg).toarray()\n",
    "print(vec.get_feature_names_out())\n",
    "df= pd.DataFrame(bag, columns= vec.get_feature_names_out())\n",
    "df"
   ]
  },
  {
   "cell_type": "markdown",
   "id": "c444037f",
   "metadata": {},
   "source": [
    "# Word2Vec"
   ]
  },
  {
   "cell_type": "code",
   "execution_count": 3,
   "id": "eb23d7ce",
   "metadata": {},
   "outputs": [
    {
     "data": {
      "text/plain": [
       "'With Bag of Words and TF-IDF text vectorization techniques we did not get semantic meaning of words But for most of the applications of NLP tasks like sentiment classification, sarcasm detection etc require semantic meaning of a word and semantic relationships of a word with other words.\\n'"
      ]
     },
     "execution_count": 3,
     "metadata": {},
     "output_type": "execute_result"
    }
   ],
   "source": [
    "from nltk.tokenize import word_tokenize\n",
    "\n",
    "with open('word2vec.txt') as f:\n",
    "    text= f.readlines()\n",
    "\n",
    "text[0]"
   ]
  },
  {
   "cell_type": "code",
   "execution_count": 4,
   "id": "5b9ef3dd",
   "metadata": {},
   "outputs": [
    {
     "name": "stdout",
     "output_type": "stream",
     "text": [
      "Number of Sentences:  11\n",
      "First Sentence from the Text File:  With Bag of Words and TF-IDF text vectorization techniques we did not get semantic meaning of words But for most of the applications of NLP tasks like sentiment classification, sarcasm detection etc require semantic meaning of a word and semantic relationships of a word with other words.\n",
      "\n"
     ]
    }
   ],
   "source": [
    "import re\n",
    "\n",
    "for i in range(len(text)):\n",
    "    text[i]= re.sub(\"a-zA-Z\", ' ', text[i])\n",
    "    \n",
    "print(\"Number of Sentences: \", len(text))\n",
    "print(\"First Sentence from the Text File: \", text[0])"
   ]
  },
  {
   "cell_type": "code",
   "execution_count": 5,
   "id": "e39fc590",
   "metadata": {},
   "outputs": [
    {
     "data": {
      "text/plain": [
       "['With',\n",
       " 'Bag',\n",
       " 'of',\n",
       " 'Words',\n",
       " 'and',\n",
       " 'TF-IDF',\n",
       " 'text',\n",
       " 'vectorization',\n",
       " 'techniques',\n",
       " 'we',\n",
       " 'did',\n",
       " 'not',\n",
       " 'get',\n",
       " 'semantic',\n",
       " 'meaning',\n",
       " 'of',\n",
       " 'words',\n",
       " 'But',\n",
       " 'for',\n",
       " 'most',\n",
       " 'of',\n",
       " 'the',\n",
       " 'applications',\n",
       " 'of',\n",
       " 'NLP',\n",
       " 'tasks',\n",
       " 'like',\n",
       " 'sentiment',\n",
       " 'classification',\n",
       " ',',\n",
       " 'sarcasm',\n",
       " 'detection',\n",
       " 'etc',\n",
       " 'require',\n",
       " 'semantic',\n",
       " 'meaning',\n",
       " 'of',\n",
       " 'a',\n",
       " 'word',\n",
       " 'and',\n",
       " 'semantic',\n",
       " 'relationships',\n",
       " 'of',\n",
       " 'a',\n",
       " 'word',\n",
       " 'with',\n",
       " 'other',\n",
       " 'words',\n",
       " '.']"
      ]
     },
     "execution_count": 5,
     "metadata": {},
     "output_type": "execute_result"
    }
   ],
   "source": [
    "token= []\n",
    "\n",
    "for i in text:\n",
    "    token.append(word_tokenize(i))\n",
    "\n",
    "token[0]"
   ]
  },
  {
   "cell_type": "code",
   "execution_count": 6,
   "id": "82ccb37a",
   "metadata": {},
   "outputs": [
    {
     "data": {
      "text/plain": [
       "['of',\n",
       " '.',\n",
       " 'and',\n",
       " 'words',\n",
       " 'a',\n",
       " 'vector',\n",
       " 'word',\n",
       " 'the',\n",
       " 'space',\n",
       " 'method',\n",
       " 'semantic',\n",
       " 'context',\n",
       " 'in',\n",
       " 'Word2vec',\n",
       " 'to',\n",
       " 'most',\n",
       " ',',\n",
       " 'with',\n",
       " 'for',\n",
       " 'meaning',\n",
       " 'we',\n",
       " 'relationships',\n",
       " 'gram',\n",
       " 'other',\n",
       " 'Word',\n",
       " 'skip',\n",
       " 'input',\n",
       " 'as',\n",
       " 'size',\n",
       " 'corpus',\n",
       " 'be',\n",
       " 'are',\n",
       " 'center',\n",
       " 'well',\n",
       " 'is',\n",
       " 'embeddings']"
      ]
     },
     "execution_count": 6,
     "metadata": {},
     "output_type": "execute_result"
    }
   ],
   "source": [
    "from gensim.models import Word2Vec\n",
    "\n",
    "cbow= Word2Vec(sentences= token, min_count= 2, vector_size= 2)\n",
    "words= cbow.wv.index_to_key\n",
    "words"
   ]
  },
  {
   "cell_type": "code",
   "execution_count": 7,
   "id": "74c7b8a6",
   "metadata": {},
   "outputs": [
    {
     "name": "stdout",
     "output_type": "stream",
     "text": [
      "Total words:  36\n"
     ]
    },
    {
     "data": {
      "text/plain": [
       "array([-0.46636945, -0.3538109 ], dtype=float32)"
      ]
     },
     "execution_count": 7,
     "metadata": {},
     "output_type": "execute_result"
    }
   ],
   "source": [
    "print(\"Total words: \", len(words))\n",
    "cbow.wv.__getitem__('and')"
   ]
  },
  {
   "cell_type": "code",
   "execution_count": null,
   "id": "1dff1209",
   "metadata": {},
   "outputs": [],
   "source": []
  }
 ],
 "metadata": {
  "kernelspec": {
   "display_name": "Python 3 (ipykernel)",
   "language": "python",
   "name": "python3"
  },
  "language_info": {
   "codemirror_mode": {
    "name": "ipython",
    "version": 3
   },
   "file_extension": ".py",
   "mimetype": "text/x-python",
   "name": "python",
   "nbconvert_exporter": "python",
   "pygments_lexer": "ipython3",
   "version": "3.9.12"
  }
 },
 "nbformat": 4,
 "nbformat_minor": 5
}
