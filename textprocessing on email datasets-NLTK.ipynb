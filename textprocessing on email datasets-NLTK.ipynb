{
 "cells": [
  {
   "cell_type": "markdown",
   "id": "8647c2d5",
   "metadata": {},
   "source": [
    "# text processing techniques on email spam data"
   ]
  },
  {
   "cell_type": "code",
   "execution_count": 2,
   "id": "77c28d01",
   "metadata": {},
   "outputs": [
    {
     "name": "stdout",
     "output_type": "stream",
     "text": [
      "                                                text spam\n",
      "0  Subject: naturally it's your irresistible your...    1\n",
      "1  Subject: the stock trading gunslinger  fanny i...    1\n",
      "2  Subject: unbelievable new homes made easy  im ...    1\n",
      "3  Subject: 4 color printing special  request add...    1\n",
      "4  Subject: do not have money , get software cds ...    1\n",
      "5  Subject: great nnews  hello , welcome to medzo...    1\n",
      "6  Subject: here ' s a hot play in motion  homela...    1\n",
      "7  Subject: save your money buy getting this thin...    1\n",
      "8  Subject: undeliverable : home based business f...    1\n",
      "9  Subject: save your money buy getting this thin...    1\n",
      "<class 'pandas.core.frame.DataFrame'>\n",
      "RangeIndex: 5730 entries, 0 to 5729\n",
      "Data columns (total 2 columns):\n",
      " #   Column  Non-Null Count  Dtype \n",
      "---  ------  --------------  ----- \n",
      " 0   text    5730 non-null   object\n",
      " 1   spam    5728 non-null   object\n",
      "dtypes: object(2)\n",
      "memory usage: 89.7+ KB\n",
      "None\n"
     ]
    }
   ],
   "source": [
    "import pandas as pd\n",
    "\n",
    "data=pd.read_csv('/home/student/Downloads/emails.csv',usecols=['text','spam'])\n",
    "print(data.head(10))\n",
    "print(data.info())"
   ]
  },
  {
   "cell_type": "code",
   "execution_count": 3,
   "id": "cf8a3a4e",
   "metadata": {},
   "outputs": [
    {
     "name": "stdout",
     "output_type": "stream",
     "text": [
      "                                                text class\n",
      "0  Subject: naturally it's your irresistible your...     1\n",
      "1  Subject: the stock trading gunslinger  fanny i...     1\n",
      "2  Subject: unbelievable new homes made easy  im ...     1\n",
      "3  Subject: 4 color printing special  request add...     1\n",
      "4  Subject: do not have money , get software cds ...     1\n",
      "5  Subject: great nnews  hello , welcome to medzo...     1\n",
      "6  Subject: here ' s a hot play in motion  homela...     1\n",
      "7  Subject: save your money buy getting this thin...     1\n",
      "8  Subject: undeliverable : home based business f...     1\n",
      "9  Subject: save your money buy getting this thin...     1\n"
     ]
    }
   ],
   "source": [
    "data.rename(columns={'spam':'class'},inplace=True)\n",
    "print(data.head(10))"
   ]
  },
  {
   "cell_type": "markdown",
   "id": "e40bd5fd",
   "metadata": {},
   "source": [
    "# Load data"
   ]
  },
  {
   "cell_type": "code",
   "execution_count": 7,
   "id": "e23cc201",
   "metadata": {},
   "outputs": [
    {
     "name": "stdout",
     "output_type": "stream",
     "text": [
      "                                                   text spam Unnamed: 2  \\\n",
      "0     Subject: naturally it's your irresistible your...    1        NaN   \n",
      "1     Subject: the stock trading gunslinger  fanny i...    1        NaN   \n",
      "2     Subject: unbelievable new homes made easy  im ...    1        NaN   \n",
      "3     Subject: 4 color printing special  request add...    1        NaN   \n",
      "4     Subject: do not have money , get software cds ...    1        NaN   \n",
      "...                                                 ...  ...        ...   \n",
      "5725  Subject: re : research and development charges...    0        NaN   \n",
      "5726  Subject: re : receipts from visit  jim ,  than...    0        NaN   \n",
      "5727  Subject: re : enron case study update  wow ! a...    0        NaN   \n",
      "5728  Subject: re : interest  david ,  please , call...    0        NaN   \n",
      "5729  Subject: news : aurora 5 . 2 update  aurora ve...    0        NaN   \n",
      "\n",
      "     Unnamed: 3 Unnamed: 4 Unnamed: 5 Unnamed: 6 Unnamed: 7 Unnamed: 8  \\\n",
      "0           NaN        NaN        NaN        NaN        NaN        NaN   \n",
      "1           NaN        NaN        NaN        NaN        NaN        NaN   \n",
      "2           NaN        NaN        NaN        NaN        NaN        NaN   \n",
      "3           NaN        NaN        NaN        NaN        NaN        NaN   \n",
      "4           NaN        NaN        NaN        NaN        NaN        NaN   \n",
      "...         ...        ...        ...        ...        ...        ...   \n",
      "5725        NaN        NaN        NaN        NaN        NaN        NaN   \n",
      "5726        NaN        NaN        NaN        NaN        NaN        NaN   \n",
      "5727        NaN        NaN        NaN        NaN        NaN        NaN   \n",
      "5728        NaN        NaN        NaN        NaN        NaN        NaN   \n",
      "5729        NaN        NaN        NaN        NaN        NaN        NaN   \n",
      "\n",
      "     Unnamed: 9  ... Unnamed: 100 Unnamed: 101 Unnamed: 102 Unnamed: 103  \\\n",
      "0           NaN  ...          NaN          NaN          NaN          NaN   \n",
      "1           NaN  ...          NaN          NaN          NaN          NaN   \n",
      "2           NaN  ...          NaN          NaN          NaN          NaN   \n",
      "3           NaN  ...          NaN          NaN          NaN          NaN   \n",
      "4           NaN  ...          NaN          NaN          NaN          NaN   \n",
      "...         ...  ...          ...          ...          ...          ...   \n",
      "5725        NaN  ...          NaN          NaN          NaN          NaN   \n",
      "5726        NaN  ...          NaN          NaN          NaN          NaN   \n",
      "5727        NaN  ...          NaN          NaN          NaN          NaN   \n",
      "5728        NaN  ...          NaN          NaN          NaN          NaN   \n",
      "5729        NaN  ...          NaN          NaN          NaN          NaN   \n",
      "\n",
      "     Unnamed: 104 Unnamed: 105 Unnamed: 106 Unnamed: 107 Unnamed: 108  \\\n",
      "0             NaN          NaN          NaN          NaN          NaN   \n",
      "1             NaN          NaN          NaN          NaN          NaN   \n",
      "2             NaN          NaN          NaN          NaN          NaN   \n",
      "3             NaN          NaN          NaN          NaN          NaN   \n",
      "4             NaN          NaN          NaN          NaN          NaN   \n",
      "...           ...          ...          ...          ...          ...   \n",
      "5725          NaN          NaN          NaN          NaN          NaN   \n",
      "5726          NaN          NaN          NaN          NaN          NaN   \n",
      "5727          NaN          NaN          NaN          NaN          NaN   \n",
      "5728          NaN          NaN          NaN          NaN          NaN   \n",
      "5729          NaN          NaN          NaN          NaN          NaN   \n",
      "\n",
      "     Unnamed: 109  \n",
      "0             NaN  \n",
      "1             NaN  \n",
      "2             NaN  \n",
      "3             NaN  \n",
      "4             NaN  \n",
      "...           ...  \n",
      "5725          NaN  \n",
      "5726          NaN  \n",
      "5727          NaN  \n",
      "5728          NaN  \n",
      "5729          NaN  \n",
      "\n",
      "[5730 rows x 110 columns]\n"
     ]
    }
   ],
   "source": [
    "df=pd.read_csv('/home/student/Downloads/emails.csv')\n",
    "print(df)"
   ]
  },
  {
   "cell_type": "code",
   "execution_count": 8,
   "id": "716964ef",
   "metadata": {},
   "outputs": [
    {
     "name": "stdout",
     "output_type": "stream",
     "text": [
      "                                                   text spam\n",
      "0     Subject: naturally it's your irresistible your...    1\n",
      "1     Subject: the stock trading gunslinger  fanny i...    1\n",
      "2     Subject: unbelievable new homes made easy  im ...    1\n",
      "3     Subject: 4 color printing special  request add...    1\n",
      "4     Subject: do not have money , get software cds ...    1\n",
      "...                                                 ...  ...\n",
      "5725  Subject: re : research and development charges...    0\n",
      "5726  Subject: re : receipts from visit  jim ,  than...    0\n",
      "5727  Subject: re : enron case study update  wow ! a...    0\n",
      "5728  Subject: re : interest  david ,  please , call...    0\n",
      "5729  Subject: news : aurora 5 . 2 update  aurora ve...    0\n",
      "\n",
      "[5730 rows x 2 columns]\n"
     ]
    }
   ],
   "source": [
    "df=pd.read_csv('/home/student/Downloads/emails.csv',usecols=['text','spam'])\n",
    "print(df)"
   ]
  },
  {
   "cell_type": "markdown",
   "id": "5fc9ab99",
   "metadata": {},
   "source": [
    "# Rename columns"
   ]
  },
  {
   "cell_type": "code",
   "execution_count": 10,
   "id": "f8668235",
   "metadata": {},
   "outputs": [
    {
     "name": "stdout",
     "output_type": "stream",
     "text": [
      "                                          Email Content spam messages\n",
      "0     Subject: naturally it's your irresistible your...             1\n",
      "1     Subject: the stock trading gunslinger  fanny i...             1\n",
      "2     Subject: unbelievable new homes made easy  im ...             1\n",
      "3     Subject: 4 color printing special  request add...             1\n",
      "4     Subject: do not have money , get software cds ...             1\n",
      "...                                                 ...           ...\n",
      "5725  Subject: re : research and development charges...             0\n",
      "5726  Subject: re : receipts from visit  jim ,  than...             0\n",
      "5727  Subject: re : enron case study update  wow ! a...             0\n",
      "5728  Subject: re : interest  david ,  please , call...             0\n",
      "5729  Subject: news : aurora 5 . 2 update  aurora ve...             0\n",
      "\n",
      "[5730 rows x 2 columns]\n"
     ]
    }
   ],
   "source": [
    "column_mapping={'text':'Email Content',\n",
    "                'spam':'spam messages',\n",
    "                #add more columns as needed\n",
    "                }\n",
    "df.rename(columns=column_mapping,inplace=True)\n",
    "df.to_csv('emails.csv',index=False)\n",
    "print(df)"
   ]
  },
  {
   "cell_type": "markdown",
   "id": "536cd3bd",
   "metadata": {},
   "source": [
    "# Expand contractions"
   ]
  },
  {
   "cell_type": "code",
   "execution_count": 12,
   "id": "11a9482e",
   "metadata": {},
   "outputs": [
    {
     "name": "stdout",
     "output_type": "stream",
     "text": [
      "Defaulting to user installation because normal site-packages is not writeable\n",
      "Collecting contractions\n",
      "  Downloading contractions-0.1.73-py2.py3-none-any.whl (8.7 kB)\n",
      "Collecting textsearch>=0.0.21 (from contractions)\n",
      "  Downloading textsearch-0.0.24-py2.py3-none-any.whl (7.6 kB)\n",
      "Collecting anyascii (from textsearch>=0.0.21->contractions)\n",
      "  Downloading anyascii-0.3.2-py3-none-any.whl (289 kB)\n",
      "\u001b[2K     \u001b[38;2;114;156;31m━━━━━━━━━━━━━━━━━━━━━━━━━━━━━━━━━━━━━\u001b[0m \u001b[32m289.9/289.9 kB\u001b[0m \u001b[31m627.6 kB/s\u001b[0m eta \u001b[36m0:00:00\u001b[0mm eta \u001b[36m0:00:01\u001b[0m0:01\u001b[0m:01\u001b[0m\n",
      "\u001b[?25hCollecting pyahocorasick (from textsearch>=0.0.21->contractions)\n",
      "  Downloading pyahocorasick-2.0.0-cp310-cp310-manylinux_2_5_x86_64.manylinux1_x86_64.manylinux_2_12_x86_64.manylinux2010_x86_64.whl (110 kB)\n",
      "\u001b[2K     \u001b[38;2;114;156;31m━━━━━━━━━━━━━━━━━━━━━━━━━━━━━━━━━━━━━\u001b[0m \u001b[32m110.8/110.8 kB\u001b[0m \u001b[31m704.0 kB/s\u001b[0m eta \u001b[36m0:00:00\u001b[0m1m714.4 kB/s\u001b[0m eta \u001b[36m0:00:01\u001b[0m\n",
      "\u001b[?25hInstalling collected packages: pyahocorasick, anyascii, textsearch, contractions\n",
      "Successfully installed anyascii-0.3.2 contractions-0.1.73 pyahocorasick-2.0.0 textsearch-0.0.24\n",
      "\n",
      "\u001b[1m[\u001b[0m\u001b[34;49mnotice\u001b[0m\u001b[1;39;49m]\u001b[0m\u001b[39;49m A new release of pip is available: \u001b[0m\u001b[31;49m23.3.2\u001b[0m\u001b[39;49m -> \u001b[0m\u001b[32;49m24.0\u001b[0m\n",
      "\u001b[1m[\u001b[0m\u001b[34;49mnotice\u001b[0m\u001b[1;39;49m]\u001b[0m\u001b[39;49m To update, run: \u001b[0m\u001b[32;49mpython3 -m pip install --upgrade pip\u001b[0m\n"
     ]
    }
   ],
   "source": [
    "!pip install contractions\n"
   ]
  },
  {
   "cell_type": "code",
   "execution_count": 13,
   "id": "02b21d0f",
   "metadata": {},
   "outputs": [
    {
     "name": "stdout",
     "output_type": "stream",
     "text": [
      "Orginal text:\n",
      " Subject: naturally it's your irresistible your corporate identity  lt is really hard to recollect a company : the  market is full of suqgestions and the information isoverwhelminq ; but a good  catchy logo , stylish statlonery and outstanding website  will make the task much easier .  we don't promise that havinq ordered a iogo your  company will automaticaily become a world ieader : it isguite ciear that  without good products , effective business organization and practicable aim it  will be hotat nowadays market ; but we do promise that your marketing efforts  will become much more effective . here is the list of clear  benefits : creativeness : hand - made , original logos , specially done  to reflect your distinctive company image . convenience : logo and stationery  are provided in all formats ; easy - to - use content management system letsyou  change your website content and even its structure . promptness : you'll see logo drafts within three business days . affordability : your  marketing break - through shouldn't make gaps in your budget . 100 % satisfaction  guaranteed : we provide unlimited amount of changes with no extra fees for you to  be surethat you will love the result of this collaboration . have a look at our  portfolio _ _ _ _ _ _ _ _ _ _ _ _ _ _ _ _ _ _ _ _ _ _ _ _ _ _ _ _ _ _ _ _ _ _ _ _ _ _ _ _ _ _ _ _ _ _ _ _ _ _ _ _ not interested . . . _ _ _ _ _ _ _ _ _ _ _ _ _ _ _ _ _ _ _ _ _ _ _ _ _ _ _ _ _ _ _ _ _ _ _ _ _ _ _ _ _ _ _ _ _ _ _ _ _ _ _ _\n",
      "Expanded text:\n",
      "\n",
      "Subject: naturally it is your irresistible your corporate identity lt is really hard to recollect a company : the market is full of suqgestions and the information isoverwhelminq ; but a good catchy logo , stylish statlonery and outstanding website will make the task much easier . we do not promise that havinq ordered a iogo your company will automaticaily become a world ieader : it isguite ciear that without good products , effective business organization and practicable aim it will be hotat nowadays market ; but we do promise that your marketing efforts will become much more effective . here is the list of clear benefits : creativeness : hand - made , original logos , specially done to reflect your distinctive company image . convenience : logo and stationery are provided in all formats ; easy - to - use content management system letsyou change your website content and even its structure . promptness : you will see logo drafts within three business days . affordability : your marketing break - through should not make gaps in your budget . 100 % satisfaction guaranteed : we provide unlimited amount of changes with no extra fees for you to be surethat you will love the result of this collaboration . have a look at our portfolio _ _ _ _ _ _ _ _ _ _ _ _ _ _ _ _ _ _ _ _ _ _ _ _ _ _ _ _ _ _ _ _ _ _ _ _ _ _ _ _ _ _ _ _ _ _ _ _ _ _ _ _ not interested . . . _ _ _ _ _ _ _ _ _ _ _ _ _ _ _ _ _ _ _ _ _ _ _ _ _ _ _ _ _ _ _ _ _ _ _ _ _ _ _ _ _ _ _ _ _ _ _ _ _ _ _ _ "
     ]
    }
   ],
   "source": [
    "import contractions\n",
    "text=df['Email Content'][0]\n",
    "print('Orginal text:\\n',text)\n",
    "print('Expanded text:\\n')\n",
    "for i in text.split():\n",
    "    print(contractions.fix(i),end=' ')"
   ]
  },
  {
   "cell_type": "code",
   "execution_count": 28,
   "id": "4b7a07dc",
   "metadata": {},
   "outputs": [
    {
     "data": {
      "text/plain": [
       "\"subject: naturally it's your irresistible your corporate identity  lt is really hard to recollect a company : the  market is full of suqgestions and the information isoverwhelminq ; but a good  catchy logo , stylish statlonery and outstanding website  will make the task much easier .  we don't promise that havinq ordered a iogo your  company will automaticaily become a world ieader : it isguite ciear that  without good products , effective business organization and practicable aim it  will be hotat nowadays market ; but we do promise that your marketing efforts  will become much more effective . here is the list of clear  benefits : creativeness : hand - made , original logos , specially done  to reflect your distinctive company image . convenience : logo and stationery  are provided in all formats ; easy - to - use content management system letsyou  change your website content and even its structure . promptness : you'll see logo drafts within three business days . affordability : your  marketing break - through shouldn't make gaps in your budget . 100 % satisfaction  guaranteed : we provide unlimited amount of changes with no extra fees for you to  be surethat you will love the result of this collaboration . have a look at our  portfolio _ _ _ _ _ _ _ _ _ _ _ _ _ _ _ _ _ _ _ _ _ _ _ _ _ _ _ _ _ _ _ _ _ _ _ _ _ _ _ _ _ _ _ _ _ _ _ _ _ _ _ _ not interested . . . _ _ _ _ _ _ _ _ _ _ _ _ _ _ _ _ _ _ _ _ _ _ _ _ _ _ _ _ _ _ _ _ _ _ _ _ _ _ _ _ _ _ _ _ _ _ _ _ _ _ _ _\""
      ]
     },
     "execution_count": 28,
     "metadata": {},
     "output_type": "execute_result"
    }
   ],
   "source": [
    "df['text']=df['Email Content'].str.lower()\n",
    "df['text'][0]"
   ]
  },
  {
   "cell_type": "markdown",
   "id": "aec95afb",
   "metadata": {},
   "source": [
    "# Remove punctuations\""
   ]
  },
  {
   "cell_type": "code",
   "execution_count": 29,
   "id": "27bc6a8e",
   "metadata": {},
   "outputs": [
    {
     "data": {
      "text/plain": [
       "'subject: 4 color printing special  request additional information now ! click here  click here for a printable version of our order form ( pdf format )  phone : ( 626 ) 338 - 8090 fax : ( 626 ) 338 - 8102 e - mail : ramsey @ goldengraphix . com  request additional information now ! click here  click here for a printable version of our order form ( pdf format )  golden graphix & printing 5110 azusa canyon rd . irwindale , ca 91706 this e - mail message is an advertisement and / or solicitation of games54 and game5s4 . '"
      ]
     },
     "execution_count": 29,
     "metadata": {},
     "output_type": "execute_result"
    }
   ],
   "source": [
    "df['text'][3]"
   ]
  },
  {
   "cell_type": "code",
   "execution_count": 30,
   "id": "93925f20",
   "metadata": {},
   "outputs": [
    {
     "data": {
      "text/plain": [
       "'subject 4 color printing special  request additional information now  click here  click here for a printable version of our order form  pdf format   phone   626  338  8090 fax   626  338  8102 e  mail  ramsey  goldengraphix  com  request additional information now  click here  click here for a printable version of our order form  pdf format   golden graphix  printing 5110 azusa canyon rd  irwindale  ca 91706 this e  mail message is an advertisement and  or solicitation of games54 and game5s4  '"
      ]
     },
     "execution_count": 30,
     "metadata": {},
     "output_type": "execute_result"
    }
   ],
   "source": [
    "import re\n",
    "df['text']=df['text'].apply(lambda x:re.sub(r'[^\\w\\s]','',x))\n",
    "df['text'][3]"
   ]
  },
  {
   "cell_type": "markdown",
   "id": "f75f9129",
   "metadata": {},
   "source": [
    "# Remove words and digits containing digits"
   ]
  },
  {
   "cell_type": "code",
   "execution_count": 31,
   "id": "64324de8",
   "metadata": {},
   "outputs": [
    {
     "data": {
      "text/plain": [
       "'subject 4 color printing special  request additional information now  click here  click here for a printable version of our order form  pdf format   phone   626  338  8090 fax   626  338  8102 e  mail  ramsey  goldengraphix  com  request additional information now  click here  click here for a printable version of our order form  pdf format   golden graphix  printing 5110 azusa canyon rd  irwindale  ca 91706 this e  mail message is an advertisement and  or solicitation of games54 and game5s4  '"
      ]
     },
     "execution_count": 31,
     "metadata": {},
     "output_type": "execute_result"
    }
   ],
   "source": [
    "df['text'][3]"
   ]
  },
  {
   "cell_type": "code",
   "execution_count": 32,
   "id": "bde02d04",
   "metadata": {},
   "outputs": [
    {
     "data": {
      "text/plain": [
       "'subject  color printing special  request additional information now  click here  click here for a printable version of our order form  pdf format   phone        fax        e  mail  ramsey  goldengraphix  com  request additional information now  click here  click here for a printable version of our order form  pdf format   golden graphix  printing  azusa canyon rd  irwindale  ca  this e  mail message is an advertisement and  or solicitation of  and   '"
      ]
     },
     "execution_count": 32,
     "metadata": {},
     "output_type": "execute_result"
    }
   ],
   "source": [
    "\n",
    "df['text']=df['text'].apply(lambda x:re.sub('\\w*\\d\\w*','',x))\n",
    "df['text'][3]"
   ]
  },
  {
   "cell_type": "markdown",
   "id": "2ac0a4ec",
   "metadata": {},
   "source": [
    "# Remove stopwords and specified stopwords"
   ]
  },
  {
   "cell_type": "code",
   "execution_count": 33,
   "id": "0d77f6bc",
   "metadata": {},
   "outputs": [
    {
     "name": "stderr",
     "output_type": "stream",
     "text": [
      "[nltk_data] Downloading package stopwords to\n",
      "[nltk_data]     /home/student/nltk_data...\n",
      "[nltk_data]   Package stopwords is already up-to-date!\n"
     ]
    },
    {
     "data": {
      "text/plain": [
       "True"
      ]
     },
     "execution_count": 33,
     "metadata": {},
     "output_type": "execute_result"
    }
   ],
   "source": [
    "import nltk\n",
    "nltk.download('stopwords')"
   ]
  },
  {
   "cell_type": "code",
   "execution_count": 34,
   "id": "a013f053",
   "metadata": {},
   "outputs": [],
   "source": [
    "from nltk.corpus import stopwords"
   ]
  },
  {
   "cell_type": "code",
   "execution_count": 35,
   "id": "da34f230",
   "metadata": {},
   "outputs": [
    {
     "data": {
      "text/plain": [
       "'subject  color printing special  request additional information now  click here  click here for a printable version of our order form  pdf format   phone        fax        e  mail  ramsey  goldengraphix  com  request additional information now  click here  click here for a printable version of our order form  pdf format   golden graphix  printing  azusa canyon rd  irwindale  ca  this e  mail message is an advertisement and  or solicitation of  and   '"
      ]
     },
     "execution_count": 35,
     "metadata": {},
     "output_type": "execute_result"
    }
   ],
   "source": [
    "df['text'][3]"
   ]
  },
  {
   "cell_type": "code",
   "execution_count": 36,
   "id": "19edad4c",
   "metadata": {},
   "outputs": [
    {
     "data": {
      "text/plain": [
       "'color printing special request additional information click click printable version order form pdf format phone fax e mail ramsey goldengraphix com request additional information click click printable version order form pdf format golden graphix printing azusa canyon rd irwindale ca e mail message advertisement solicitation'"
      ]
     },
     "execution_count": 36,
     "metadata": {},
     "output_type": "execute_result"
    }
   ],
   "source": [
    "stop_words=set(stopwords.words('english'))\n",
    "stop_words.add('subject')\n",
    "def remove_stopwords(text):\n",
    "    return \" \".join([word for word in str(text).split() if word not in stop_words])\n",
    "df['text']=df['text'].apply(lambda x:remove_stopwords(x))\n",
    "df['text'][3]"
   ]
  },
  {
   "cell_type": "code",
   "execution_count": null,
   "id": "a15b2112",
   "metadata": {},
   "outputs": [],
   "source": []
  }
 ],
 "metadata": {
  "kernelspec": {
   "display_name": "Python 3 (ipykernel)",
   "language": "python",
   "name": "python3"
  },
  "language_info": {
   "codemirror_mode": {
    "name": "ipython",
    "version": 3
   },
   "file_extension": ".py",
   "mimetype": "text/x-python",
   "name": "python",
   "nbconvert_exporter": "python",
   "pygments_lexer": "ipython3",
   "version": "3.10.12"
  }
 },
 "nbformat": 4,
 "nbformat_minor": 5
}
