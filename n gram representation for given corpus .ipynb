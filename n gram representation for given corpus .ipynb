{
 "cells": [
  {
   "cell_type": "code",
   "execution_count": 1,
   "id": "7740bb78",
   "metadata": {},
   "outputs": [],
   "source": [
    "#preprocessing\n",
    "#display all tokens\n",
    "#bi-gram and frequency \n",
    "#tri0gram and frequency"
   ]
  },
  {
   "cell_type": "code",
   "execution_count": 2,
   "id": "87b91710",
   "metadata": {},
   "outputs": [
    {
     "name": "stderr",
     "output_type": "stream",
     "text": [
      "/usr/lib/python3/dist-packages/scipy/__init__.py:146: UserWarning: A NumPy version >=1.17.3 and <1.25.0 is required for this version of SciPy (detected version 1.26.1\n",
      "  warnings.warn(f\"A NumPy version >={np_minversion} and <{np_maxversion}\"\n"
     ]
    }
   ],
   "source": [
    "import nltk "
   ]
  },
  {
   "cell_type": "code",
   "execution_count": 4,
   "id": "5588a9ef",
   "metadata": {},
   "outputs": [
    {
     "name": "stdout",
     "output_type": "stream",
     "text": [
      "The Arabian knights.These are the fairy tales of the east.The stories of the Arabian knights are translated in many languages\n"
     ]
    }
   ],
   "source": [
    "with open('NGRAM.txt') as f:\n",
    "    corpus=f.readline()\n",
    "print(corpus)"
   ]
  },
  {
   "cell_type": "code",
   "execution_count": 5,
   "id": "c230224a",
   "metadata": {},
   "outputs": [
    {
     "name": "stdout",
     "output_type": "stream",
     "text": [
      "The Arabian knights.These are the fairy tales of the east.The stories of the Arabian knights are translated in many languages\n"
     ]
    }
   ],
   "source": [
    "with open('NGRAM.txt') as f:\n",
    "    corpus=f.readline()\n",
    "print(corpus)\n"
   ]
  },
  {
   "cell_type": "code",
   "execution_count": 6,
   "id": "6436d15a",
   "metadata": {},
   "outputs": [
    {
     "name": "stdout",
     "output_type": "stream",
     "text": [
      "Preprocessed data corpus=\n",
      " eosthe arabian knights eos these are the fairy tales of the east eos the stories of the arabian knights are translated in many languages\n"
     ]
    }
   ],
   "source": [
    "#preprocessing\n",
    "corpus=corpus.lower()\n",
    "corpus=\"eos\"+corpus\n",
    "corpus=corpus.replace(\".\",\" eos \")\n",
    "print(\"Preprocessed data corpus=\\n\",corpus)"
   ]
  },
  {
   "cell_type": "code",
   "execution_count": 7,
   "id": "57560b30",
   "metadata": {},
   "outputs": [
    {
     "name": "stdout",
     "output_type": "stream",
     "text": [
      "Total tokens in the corpus: ['eosthe', 'arabian', 'knights', 'eos', 'these', 'are', 'the', 'fairy', 'tales', 'of', 'the', 'east', 'eos', 'the', 'stories', 'of', 'the', 'arabian', 'knights', 'are', 'translated', 'in', 'many', 'languages']\n",
      "Distinct token in the corpus: {'these', 'translated', 'are', 'fairy', 'of', 'arabian', 'stories', 'many', 'in', 'languages', 'the', 'knights', 'east', 'tales', 'eos', 'eosthe'}\n"
     ]
    }
   ],
   "source": [
    "#tokenization\n",
    "from nltk.tokenize import word_tokenize\n",
    "token=word_tokenize(corpus)\n",
    "print('Total tokens in the corpus:',token)\n",
    "print('Distinct token in the corpus:',set(token))"
   ]
  },
  {
   "cell_type": "code",
   "execution_count": 8,
   "id": "45874fd3",
   "metadata": {},
   "outputs": [
    {
     "name": "stdout",
     "output_type": "stream",
     "text": [
      "Frequency of each tokens=  {'eosthe': 1, 'arabian': 2, 'knights': 2, 'eos': 2, 'these': 1, 'are': 2, 'the': 4, 'fairy': 1, 'tales': 1, 'of': 2, 'east': 1, 'stories': 1, 'translated': 1, 'in': 1, 'many': 1, 'languages': 1}\n"
     ]
    }
   ],
   "source": [
    "#find out frequencies\n",
    "dct={}\n",
    "for i in token:\n",
    "    dct[i]=0\n",
    "for i in token:\n",
    "    dct[i]+=1\n",
    "print('Frequency of each tokens= ',dct)"
   ]
  },
  {
   "cell_type": "code",
   "execution_count": 9,
   "id": "32ba4587",
   "metadata": {},
   "outputs": [],
   "source": [
    "#generate n grams and frequencies\n",
    "def ngram(k):\n",
    "    l=[]\n",
    "    for i in range(len(token)):\n",
    "        l.append(token[i:i+k])\n",
    "    l=l[:-1]    \n",
    "    dct={}\n",
    "    l=[\"\".join(i) for i in l]\n",
    "\n",
    "    for i in l:\n",
    "        dct[i]=0\n",
    "    for i in l:\n",
    "        dct[i]+=1\n",
    "\n",
    "    return dct"
   ]
  },
  {
   "cell_type": "code",
   "execution_count": 10,
   "id": "3532fa5c",
   "metadata": {},
   "outputs": [
    {
     "name": "stdout",
     "output_type": "stream",
     "text": [
      "{'eosthearabian': 1, 'arabianknights': 2, 'knightseos': 1, 'eosthese': 1, 'theseare': 1, 'arethe': 1, 'thefairy': 1, 'fairytales': 1, 'talesof': 1, 'ofthe': 2, 'theeast': 1, 'easteos': 1, 'eosthe': 1, 'thestories': 1, 'storiesof': 1, 'thearabian': 1, 'knightsare': 1, 'aretranslated': 1, 'translatedin': 1, 'inmany': 1, 'manylanguages': 1}\n"
     ]
    }
   ],
   "source": [
    "print(ngram(2))"
   ]
  },
  {
   "cell_type": "code",
   "execution_count": 11,
   "id": "1c6f6215",
   "metadata": {},
   "outputs": [
    {
     "name": "stdout",
     "output_type": "stream",
     "text": [
      "{'eosthearabianknights': 1, 'arabianknightseos': 1, 'knightseosthese': 1, 'eostheseare': 1, 'thesearethe': 1, 'arethefairy': 1, 'thefairytales': 1, 'fairytalesof': 1, 'talesofthe': 1, 'oftheeast': 1, 'theeasteos': 1, 'easteosthe': 1, 'eosthestories': 1, 'thestoriesof': 1, 'storiesofthe': 1, 'ofthearabian': 1, 'thearabianknights': 1, 'arabianknightsare': 1, 'knightsaretranslated': 1, 'aretranslatedin': 1, 'translatedinmany': 1, 'inmanylanguages': 1, 'manylanguages': 1}\n"
     ]
    }
   ],
   "source": [
    "print(ngram(3))"
   ]
  },
  {
   "cell_type": "code",
   "execution_count": null,
   "id": "2131aa18",
   "metadata": {},
   "outputs": [],
   "source": []
  }
 ],
 "metadata": {
  "kernelspec": {
   "display_name": "Python 3 (ipykernel)",
   "language": "python",
   "name": "python3"
  },
  "language_info": {
   "codemirror_mode": {
    "name": "ipython",
    "version": 3
   },
   "file_extension": ".py",
   "mimetype": "text/x-python",
   "name": "python",
   "nbconvert_exporter": "python",
   "pygments_lexer": "ipython3",
   "version": "3.10.12"
  }
 },
 "nbformat": 4,
 "nbformat_minor": 5
}
